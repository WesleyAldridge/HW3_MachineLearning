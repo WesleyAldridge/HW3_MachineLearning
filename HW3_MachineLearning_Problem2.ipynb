{
  "nbformat": 4,
  "nbformat_minor": 0,
  "metadata": {
    "colab": {
      "name": "HW3_MachineLearning_Problem2",
      "version": "0.3.2",
      "provenance": [],
      "collapsed_sections": [],
      "include_colab_link": true
    },
    "kernelspec": {
      "name": "python3",
      "display_name": "Python 3"
    },
    "accelerator": "GPU"
  },
  "cells": [
    {
      "cell_type": "markdown",
      "metadata": {
        "id": "view-in-github",
        "colab_type": "text"
      },
      "source": [
        "<a href=\"https://colab.research.google.com/github/WesleyAldridge/HW3_MachineLearning/blob/master/HW3_MachineLearning_Problem2.ipynb\" target=\"_parent\"><img src=\"https://colab.research.google.com/assets/colab-badge.svg\" alt=\"Open In Colab\"/></a>"
      ]
    },
    {
      "metadata": {
        "id": "s7MiqtdYS6gw",
        "colab_type": "text"
      },
      "cell_type": "markdown",
      "source": [
        "# Problem 2\n",
        "\n",
        "## Do fine-tuning with data augmentation."
      ]
    },
    {
      "metadata": {
        "id": "mnR2y99cTK2I",
        "colab_type": "text"
      },
      "cell_type": "markdown",
      "source": [
        "### Retrieving cats_and_dogs data, creating directories"
      ]
    },
    {
      "metadata": {
        "id": "6CYoofjgSt1S",
        "colab_type": "code",
        "colab": {
          "base_uri": "https://localhost:8080/",
          "height": 218
        },
        "outputId": "8bc928c5-d6f3-446e-e0d3-471a22c1e08c"
      },
      "cell_type": "code",
      "source": [
        "!wget --no-check-certificate \\\n",
        "    https://storage.googleapis.com/mledu-datasets/cats_and_dogs_filtered.zip \\\n",
        "    -O /tmp/cats_and_dogs_filtered.zip\n",
        "    \n",
        "import os\n",
        "import zipfile\n",
        "from keras.preprocessing import image\n",
        "import numpy as np\n",
        "\n",
        "local_zip = '/tmp/cats_and_dogs_filtered.zip'\n",
        "zip_ref = zipfile.ZipFile(local_zip, 'r')\n",
        "zip_ref.extractall('/tmp')\n",
        "zip_ref.close()\n",
        "\n",
        "base_dir = '/tmp/cats_and_dogs_filtered'\n",
        "train_dir = os.path.join(base_dir, 'train')\n",
        "validation_dir = os.path.join(base_dir, 'validation')\n",
        "\n",
        "train_cats_dir = os.path.join(train_dir, 'cats')\n",
        "train_dogs_dir = os.path.join(train_dir, 'dogs')\n",
        "validation_cats_dir = os.path.join(validation_dir, 'cats')\n",
        "validation_dogs_dir = os.path.join(validation_dir, 'dogs')\n",
        "\n",
        "catlist = os.listdir(validation_cats_dir)\n",
        "doglist = os.listdir(validation_dogs_dir)\n",
        "print(str(len(catlist) + len(doglist)) + \" validation images\")"
      ],
      "execution_count": 20,
      "outputs": [
        {
          "output_type": "stream",
          "text": [
            "--2019-04-17 22:28:33--  https://storage.googleapis.com/mledu-datasets/cats_and_dogs_filtered.zip\n",
            "Resolving storage.googleapis.com (storage.googleapis.com)... 74.125.195.128, 2607:f8b0:400e:c03::80\n",
            "Connecting to storage.googleapis.com (storage.googleapis.com)|74.125.195.128|:443... connected.\n",
            "HTTP request sent, awaiting response... 200 OK\n",
            "Length: 68606236 (65M) [application/zip]\n",
            "Saving to: ‘/tmp/cats_and_dogs_filtered.zip’\n",
            "\n",
            "/tmp/cats_and_dogs_ 100%[===================>]  65.43M  42.8MB/s    in 1.5s    \n",
            "\n",
            "2019-04-17 22:28:35 (42.8 MB/s) - ‘/tmp/cats_and_dogs_filtered.zip’ saved [68606236/68606236]\n",
            "\n",
            "1000 validation images\n"
          ],
          "name": "stdout"
        }
      ]
    },
    {
      "metadata": {
        "id": "U0DGhIlBTyhN",
        "colab_type": "text"
      },
      "cell_type": "markdown",
      "source": [
        "### Loading VGG19"
      ]
    },
    {
      "metadata": {
        "id": "PDeYGDb0Tslj",
        "colab_type": "code",
        "colab": {}
      },
      "cell_type": "code",
      "source": [
        "from keras.applications import VGG19\n",
        "\n",
        "conv_base = VGG19(\n",
        "    weights='imagenet', \n",
        "    include_top=False, \n",
        "    input_shape=(150, 150, 3))"
      ],
      "execution_count": 0,
      "outputs": []
    },
    {
      "metadata": {
        "id": "ZGyzoEYsT24E",
        "colab_type": "text"
      },
      "cell_type": "markdown",
      "source": [
        "### Freezing convolutional base weights"
      ]
    },
    {
      "metadata": {
        "id": "ChVhWd_3S-kE",
        "colab_type": "code",
        "colab": {}
      },
      "cell_type": "code",
      "source": [
        "conv_base.trainable = False"
      ],
      "execution_count": 0,
      "outputs": []
    },
    {
      "metadata": {
        "id": "1Rb4SWpQURc9",
        "colab_type": "text"
      },
      "cell_type": "markdown",
      "source": [
        "### Creating model with VGG19 convolutional base"
      ]
    },
    {
      "metadata": {
        "id": "_70F-TBdUDp6",
        "colab_type": "code",
        "colab": {
          "base_uri": "https://localhost:8080/",
          "height": 269
        },
        "outputId": "ba423ff1-6de0-4102-819c-68eaa2f49976"
      },
      "cell_type": "code",
      "source": [
        "from keras import layers\n",
        "from keras import models\n",
        "\n",
        "model = models.Sequential()\n",
        "model.add(conv_base)\n",
        "model.add(layers.Flatten())\n",
        "model.add(layers.Dense(256, activation='relu'))\n",
        "model.add(layers.Dense(1, activation='sigmoid'))\n",
        "\n",
        "model.summary()"
      ],
      "execution_count": 23,
      "outputs": [
        {
          "output_type": "stream",
          "text": [
            "_________________________________________________________________\n",
            "Layer (type)                 Output Shape              Param #   \n",
            "=================================================================\n",
            "vgg19 (Model)                (None, 4, 4, 512)         20024384  \n",
            "_________________________________________________________________\n",
            "flatten_2 (Flatten)          (None, 8192)              0         \n",
            "_________________________________________________________________\n",
            "dense_3 (Dense)              (None, 256)               2097408   \n",
            "_________________________________________________________________\n",
            "dense_4 (Dense)              (None, 1)                 257       \n",
            "=================================================================\n",
            "Total params: 22,122,049\n",
            "Trainable params: 2,097,665\n",
            "Non-trainable params: 20,024,384\n",
            "_________________________________________________________________\n"
          ],
          "name": "stdout"
        }
      ]
    },
    {
      "metadata": {
        "id": "z-mxvJC_UcWP",
        "colab_type": "text"
      },
      "cell_type": "markdown",
      "source": [
        "### Data augmentation"
      ]
    },
    {
      "metadata": {
        "id": "BelLKzODUlHW",
        "colab_type": "code",
        "colab": {
          "base_uri": "https://localhost:8080/",
          "height": 50
        },
        "outputId": "4cf9c627-41f0-4294-db61-668941a93f53"
      },
      "cell_type": "code",
      "source": [
        "from keras.preprocessing.image import ImageDataGenerator\n",
        "\n",
        "train_datagen = ImageDataGenerator(\n",
        "    rescale=1./255, \n",
        "    rotation_range=40,\n",
        "    width_shift_range=0.2,\n",
        "    height_shift_range=0.2,\n",
        "    shear_range=0.2,\n",
        "    zoom_range=0.2,\n",
        "    horizontal_flip=True,\n",
        "    fill_mode='nearest'\n",
        ")\n",
        "\n",
        "train_generator = train_datagen.flow_from_directory(\n",
        "    train_dir,\n",
        "    target_size=(150, 150),\n",
        "    batch_size=20,\n",
        "    class_mode='binary')\n",
        "\n",
        "validation_datagen = ImageDataGenerator(rescale=1./255)\n",
        "\n",
        "validation_generator = validation_datagen.flow_from_directory(\n",
        "    validation_dir,\n",
        "    target_size=(150, 150),\n",
        "    batch_size=20,\n",
        "    class_mode='binary')"
      ],
      "execution_count": 24,
      "outputs": [
        {
          "output_type": "stream",
          "text": [
            "Found 2000 images belonging to 2 classes.\n",
            "Found 1000 images belonging to 2 classes.\n"
          ],
          "name": "stdout"
        }
      ]
    },
    {
      "metadata": {
        "id": "gu-27OhvUwNj",
        "colab_type": "text"
      },
      "cell_type": "markdown",
      "source": [
        "### Fine-tuning"
      ]
    },
    {
      "metadata": {
        "id": "5zRzOjNsUFtv",
        "colab_type": "code",
        "colab": {}
      },
      "cell_type": "code",
      "source": [
        "conv_base.trainable = True\n",
        "\n",
        "set_trainable = False\n",
        "for layer in conv_base.layers:\n",
        "  if layer.name == 'block5_conv1':\n",
        "    set_trainable = True\n",
        "  if set_trainable:\n",
        "    layer.trainable = True\n",
        "  else:\n",
        "    layer.trainable = False"
      ],
      "execution_count": 0,
      "outputs": []
    },
    {
      "metadata": {
        "id": "iGWchs5FVH6m",
        "colab_type": "text"
      },
      "cell_type": "markdown",
      "source": [
        "### Running model"
      ]
    },
    {
      "metadata": {
        "id": "Dt4koa7lTAAF",
        "colab_type": "code",
        "colab": {
          "base_uri": "https://localhost:8080/",
          "height": 1025
        },
        "outputId": "5f5b34a6-e186-417e-f786-2e80c38eb0b1"
      },
      "cell_type": "code",
      "source": [
        "from keras import optimizers\n",
        "\n",
        "model.compile(\n",
        "    loss='binary_crossentropy', \n",
        "    optimizer=optimizers.RMSprop(lr=2e-5), \n",
        "    metrics=['acc']\n",
        ")\n",
        "\n",
        "\n",
        "history = model.fit_generator(\n",
        "    train_generator,\n",
        "    steps_per_epoch=100,\n",
        "    epochs=30,\n",
        "    validation_data=validation_generator,\n",
        "    validation_steps=50\n",
        ")"
      ],
      "execution_count": 26,
      "outputs": [
        {
          "output_type": "stream",
          "text": [
            "Epoch 1/30\n",
            "100/100 [==============================] - 21s 206ms/step - loss: 0.5168 - acc: 0.7350 - val_loss: 0.2916 - val_acc: 0.8740\n",
            "Epoch 2/30\n",
            "100/100 [==============================] - 20s 198ms/step - loss: 0.3453 - acc: 0.8370 - val_loss: 0.2323 - val_acc: 0.8970\n",
            "Epoch 3/30\n",
            "100/100 [==============================] - 18s 185ms/step - loss: 0.3050 - acc: 0.8680 - val_loss: 0.2546 - val_acc: 0.9010\n",
            "Epoch 4/30\n",
            "100/100 [==============================] - 19s 187ms/step - loss: 0.2760 - acc: 0.8835 - val_loss: 0.2933 - val_acc: 0.8980\n",
            "Epoch 5/30\n",
            "100/100 [==============================] - 19s 187ms/step - loss: 0.2409 - acc: 0.8945 - val_loss: 0.2155 - val_acc: 0.9130\n",
            "Epoch 6/30\n",
            "100/100 [==============================] - 21s 210ms/step - loss: 0.2266 - acc: 0.9085 - val_loss: 0.2571 - val_acc: 0.9090\n",
            "Epoch 7/30\n",
            "100/100 [==============================] - 19s 188ms/step - loss: 0.2088 - acc: 0.9135 - val_loss: 0.1969 - val_acc: 0.9230\n",
            "Epoch 8/30\n",
            "100/100 [==============================] - 19s 186ms/step - loss: 0.1820 - acc: 0.9315 - val_loss: 0.1933 - val_acc: 0.9300\n",
            "Epoch 9/30\n",
            "100/100 [==============================] - 19s 193ms/step - loss: 0.1634 - acc: 0.9370 - val_loss: 0.1566 - val_acc: 0.9430\n",
            "Epoch 10/30\n",
            "100/100 [==============================] - 19s 194ms/step - loss: 0.1645 - acc: 0.9330 - val_loss: 0.1563 - val_acc: 0.9360\n",
            "Epoch 11/30\n",
            "100/100 [==============================] - 19s 187ms/step - loss: 0.1640 - acc: 0.9320 - val_loss: 0.1941 - val_acc: 0.9360\n",
            "Epoch 12/30\n",
            "100/100 [==============================] - 19s 187ms/step - loss: 0.1598 - acc: 0.9365 - val_loss: 0.2016 - val_acc: 0.9270\n",
            "Epoch 13/30\n",
            "100/100 [==============================] - 19s 186ms/step - loss: 0.1415 - acc: 0.9480 - val_loss: 0.2086 - val_acc: 0.9280\n",
            "Epoch 14/30\n",
            "100/100 [==============================] - 18s 185ms/step - loss: 0.1376 - acc: 0.9505 - val_loss: 0.2904 - val_acc: 0.9160\n",
            "Epoch 15/30\n",
            "100/100 [==============================] - 20s 197ms/step - loss: 0.1152 - acc: 0.9535 - val_loss: 0.1815 - val_acc: 0.9460\n",
            "Epoch 16/30\n",
            "100/100 [==============================] - 19s 187ms/step - loss: 0.1212 - acc: 0.9495 - val_loss: 0.1685 - val_acc: 0.9470\n",
            "Epoch 17/30\n",
            "100/100 [==============================] - 19s 186ms/step - loss: 0.1171 - acc: 0.9540 - val_loss: 0.2490 - val_acc: 0.9290\n",
            "Epoch 18/30\n",
            "100/100 [==============================] - 19s 187ms/step - loss: 0.1132 - acc: 0.9555 - val_loss: 0.1590 - val_acc: 0.9500\n",
            "Epoch 19/30\n",
            "100/100 [==============================] - 20s 198ms/step - loss: 0.0897 - acc: 0.9655 - val_loss: 0.2356 - val_acc: 0.9270\n",
            "Epoch 20/30\n",
            "100/100 [==============================] - 19s 186ms/step - loss: 0.1116 - acc: 0.9560 - val_loss: 0.1827 - val_acc: 0.9430\n",
            "Epoch 21/30\n",
            "100/100 [==============================] - 19s 186ms/step - loss: 0.0972 - acc: 0.9620 - val_loss: 0.2381 - val_acc: 0.9350\n",
            "Epoch 22/30\n",
            "100/100 [==============================] - 20s 202ms/step - loss: 0.0859 - acc: 0.9665 - val_loss: 0.3460 - val_acc: 0.9190\n",
            "Epoch 23/30\n",
            "100/100 [==============================] - 20s 200ms/step - loss: 0.0920 - acc: 0.9660 - val_loss: 0.3123 - val_acc: 0.9180\n",
            "Epoch 24/30\n",
            "100/100 [==============================] - 19s 187ms/step - loss: 0.0871 - acc: 0.9695 - val_loss: 0.1925 - val_acc: 0.9430\n",
            "Epoch 25/30\n",
            "100/100 [==============================] - 19s 192ms/step - loss: 0.0758 - acc: 0.9750 - val_loss: 0.2503 - val_acc: 0.9390\n",
            "Epoch 26/30\n",
            "100/100 [==============================] - 19s 186ms/step - loss: 0.0754 - acc: 0.9695 - val_loss: 0.2798 - val_acc: 0.9300\n",
            "Epoch 27/30\n",
            "100/100 [==============================] - 20s 195ms/step - loss: 0.0744 - acc: 0.9775 - val_loss: 0.2446 - val_acc: 0.9410\n",
            "Epoch 28/30\n",
            "100/100 [==============================] - 19s 186ms/step - loss: 0.0700 - acc: 0.9770 - val_loss: 0.2971 - val_acc: 0.9340\n",
            "Epoch 29/30\n",
            "100/100 [==============================] - 19s 187ms/step - loss: 0.0616 - acc: 0.9755 - val_loss: 0.5146 - val_acc: 0.9020\n",
            "Epoch 30/30\n",
            "100/100 [==============================] - 19s 187ms/step - loss: 0.0709 - acc: 0.9745 - val_loss: 0.3801 - val_acc: 0.9200\n"
          ],
          "name": "stdout"
        }
      ]
    },
    {
      "metadata": {
        "id": "ykwA0WDVY6Wg",
        "colab_type": "text"
      },
      "cell_type": "markdown",
      "source": [
        "### Graphing accuracy"
      ]
    },
    {
      "metadata": {
        "id": "qw-GKs_XY9Hy",
        "colab_type": "code",
        "colab": {
          "base_uri": "https://localhost:8080/",
          "height": 545
        },
        "outputId": "09391092-0007-4abe-b0fb-92e69ea09cb7"
      },
      "cell_type": "code",
      "source": [
        "import matplotlib.pyplot as plt\n",
        "\n",
        "acc = history.history['acc']\n",
        "val_acc = history.history['val_acc']\n",
        "\n",
        "loss = history.history['loss']\n",
        "val_loss = history.history['val_loss']\n",
        "\n",
        "epochs = range(1, len(acc) + 1)\n",
        "\n",
        "plt.plot(epochs, acc, 'bo', label='training acc')\n",
        "plt.plot(epochs, val_acc, 'b', label='validation acc')\n",
        "plt.title('training and validation accuracy')\n",
        "plt.legend()\n",
        "\n",
        "plt.figure()\n",
        "\n",
        "plt.plot(epochs, loss, 'bo', label='training loss')\n",
        "plt.plot(epochs, val_loss, 'b', label='validation loss')\n",
        "plt.title('training and validation loss')\n",
        "plt.legend()\n",
        "\n",
        "plt.show()"
      ],
      "execution_count": 27,
      "outputs": [
        {
          "output_type": "display_data",
          "data": {
            "image/png": "[encoded data removed]",
            "text/plain": [
              "<Figure size 432x288 with 1 Axes>"
            ]
          },
          "metadata": {
            "tags": []
          }
        },
        {
          "output_type": "display_data",
          "data": {
            "image/png": "[encoded data removed]",
            "text/plain": [
              "<Figure size 432x288 with 1 Axes>"
            ]
          },
          "metadata": {
            "tags": []
          }
        }
      ]
    },
    {
      "metadata": {
        "id": "Q9sZN1S-bKea",
        "colab_type": "text"
      },
      "cell_type": "markdown",
      "source": [
        "### Print out validation loss and accuracy"
      ]
    },
    {
      "metadata": {
        "id": "bZQq2hezbM6h",
        "colab_type": "code",
        "colab": {
          "base_uri": "https://localhost:8080/",
          "height": 50
        },
        "outputId": "86a1286e-eff7-4d66-e780-ddd8daada5e6"
      },
      "cell_type": "code",
      "source": [
        "val_loss, val_acc = model.evaluate_generator(validation_generator, steps=50)\n",
        "\n",
        "print(\"Validation loss:\", val_loss)\n",
        "print(\"Validation accuracy:\", val_acc)"
      ],
      "execution_count": 28,
      "outputs": [
        {
          "output_type": "stream",
          "text": [
            "Validation loss: 0.3726798423595028\n",
            "Validation accuracy: 0.9299999952316285\n"
          ],
          "name": "stdout"
        }
      ]
    },
    {
      "metadata": {
        "id": "Rs9YSV12bWSt",
        "colab_type": "text"
      },
      "cell_type": "markdown",
      "source": [
        "### Save the model"
      ]
    },
    {
      "metadata": {
        "id": "T2NRkY6jbYcv",
        "colab_type": "code",
        "colab": {}
      },
      "cell_type": "code",
      "source": [
        "model_fname = 'cats_and_dogs_finetuning.h5' \n",
        "model.save(model_fname)\n",
        "\n",
        "from google.colab import files\n",
        "\n",
        "with open(model_fname, 'r') as f:\n",
        "  files.download(model_fname)"
      ],
      "execution_count": 0,
      "outputs": []
    }
  ]
}