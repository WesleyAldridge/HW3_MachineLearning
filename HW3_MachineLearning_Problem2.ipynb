{
  "nbformat": 4,
  "nbformat_minor": 0,
  "metadata": {
    "colab": {
      "name": "HW3_MachineLearning_Problem2",
      "version": "0.3.2",
      "provenance": [],
      "collapsed_sections": [],
      "include_colab_link": true
    },
    "kernelspec": {
      "name": "python3",
      "display_name": "Python 3"
    },
    "accelerator": "GPU"
  },
  "cells": [
    {
      "cell_type": "markdown",
      "metadata": {
        "id": "view-in-github",
        "colab_type": "text"
      },
      "source": [
        "<a href=\"https://colab.research.google.com/github/WesleyAldridge/HW3_MachineLearning/blob/master/HW3_MachineLearning_Problem2.ipynb\" target=\"_parent\"><img src=\"https://colab.research.google.com/assets/colab-badge.svg\" alt=\"Open In Colab\"/></a>"
      ]
    },
    {
      "metadata": {
        "id": "s7MiqtdYS6gw",
        "colab_type": "text"
      },
      "cell_type": "markdown",
      "source": [
        "# Problem 2\n",
        "\n",
        "## Do fine-tuning with data augmentation."
      ]
    },
    {
      "metadata": {
        "id": "Ap5zkXHk5_-E",
        "colab_type": "code",
        "colab": {}
      },
      "cell_type": "code",
      "source": [
        "from google.colab import files\n",
        "\n",
        "from keras import layers, models, optimizers\n",
        "from keras.applications import VGG19\n",
        "from keras.preprocessing import image\n",
        "from keras.preprocessing.image import ImageDataGenerator\n",
        "\n",
        "import os\n",
        "\n",
        "import matplotlib.pyplot as plt\n",
        "\n",
        "import numpy as np\n",
        "\n",
        "import zipfile"
      ],
      "execution_count": 0,
      "outputs": []
    },
    {
      "metadata": {
        "id": "mnR2y99cTK2I",
        "colab_type": "text"
      },
      "cell_type": "markdown",
      "source": [
        "### Retrieving cats_and_dogs data, creating directories"
      ]
    },
    {
      "metadata": {
        "id": "6CYoofjgSt1S",
        "colab_type": "code",
        "outputId": "b60c60c0-1195-4236-90bc-528deebd250c",
        "colab": {
          "base_uri": "https://localhost:8080/",
          "height": 202
        }
      },
      "cell_type": "code",
      "source": [
        "!wget --no-check-certificate \\\n",
        "    https://storage.googleapis.com/mledu-datasets/cats_and_dogs_filtered.zip \\\n",
        "    -O /tmp/cats_and_dogs_filtered.zip\n",
        "\n",
        "\n",
        "local_zip = '/tmp/cats_and_dogs_filtered.zip'\n",
        "zip_ref = zipfile.ZipFile(local_zip, 'r')\n",
        "zip_ref.extractall('/tmp')\n",
        "zip_ref.close()\n",
        "\n",
        "base_dir = '/tmp/cats_and_dogs_filtered'\n",
        "train_dir = os.path.join(base_dir, 'train')\n",
        "validation_dir = os.path.join(base_dir, 'validation')"
      ],
      "execution_count": 44,
      "outputs": [
        {
          "output_type": "stream",
          "text": [
            "--2019-04-18 01:29:04--  https://storage.googleapis.com/mledu-datasets/cats_and_dogs_filtered.zip\n",
            "Resolving storage.googleapis.com (storage.googleapis.com)... 74.125.195.128, 2607:f8b0:400e:c04::80\n",
            "Connecting to storage.googleapis.com (storage.googleapis.com)|74.125.195.128|:443... connected.\n",
            "HTTP request sent, awaiting response... 200 OK\n",
            "Length: 68606236 (65M) [application/zip]\n",
            "Saving to: ‘/tmp/cats_and_dogs_filtered.zip’\n",
            "\n",
            "/tmp/cats_and_dogs_ 100%[===================>]  65.43M  41.2MB/s    in 1.6s    \n",
            "\n",
            "2019-04-18 01:29:06 (41.2 MB/s) - ‘/tmp/cats_and_dogs_filtered.zip’ saved [68606236/68606236]\n",
            "\n"
          ],
          "name": "stdout"
        }
      ]
    },
    {
      "metadata": {
        "id": "U0DGhIlBTyhN",
        "colab_type": "text"
      },
      "cell_type": "markdown",
      "source": [
        "### Loading VGG19"
      ]
    },
    {
      "metadata": {
        "id": "PDeYGDb0Tslj",
        "colab_type": "code",
        "colab": {}
      },
      "cell_type": "code",
      "source": [
        "conv_base = VGG19(\n",
        "    weights='imagenet', \n",
        "    include_top=False, \n",
        "    input_shape=(150, 150, 3))"
      ],
      "execution_count": 0,
      "outputs": []
    },
    {
      "metadata": {
        "id": "1Rb4SWpQURc9",
        "colab_type": "text"
      },
      "cell_type": "markdown",
      "source": [
        "### Creating model with VGG19 convolutional base"
      ]
    },
    {
      "metadata": {
        "id": "_70F-TBdUDp6",
        "colab_type": "code",
        "outputId": "f8372cf5-7440-440d-e8c0-400e4ea93a40",
        "colab": {
          "base_uri": "https://localhost:8080/",
          "height": 269
        }
      },
      "cell_type": "code",
      "source": [
        "model = models.Sequential()\n",
        "model.add(conv_base)\n",
        "model.add(layers.Flatten())\n",
        "model.add(layers.Dense(256, activation='relu'))\n",
        "model.add(layers.Dense(1, activation='sigmoid'))\n",
        "\n",
        "model.summary()"
      ],
      "execution_count": 46,
      "outputs": [
        {
          "output_type": "stream",
          "text": [
            "_________________________________________________________________\n",
            "Layer (type)                 Output Shape              Param #   \n",
            "=================================================================\n",
            "vgg19 (Model)                (None, 4, 4, 512)         20024384  \n",
            "_________________________________________________________________\n",
            "flatten_4 (Flatten)          (None, 8192)              0         \n",
            "_________________________________________________________________\n",
            "dense_7 (Dense)              (None, 256)               2097408   \n",
            "_________________________________________________________________\n",
            "dense_8 (Dense)              (None, 1)                 257       \n",
            "=================================================================\n",
            "Total params: 22,122,049\n",
            "Trainable params: 22,122,049\n",
            "Non-trainable params: 0\n",
            "_________________________________________________________________\n"
          ],
          "name": "stdout"
        }
      ]
    },
    {
      "metadata": {
        "id": "z-mxvJC_UcWP",
        "colab_type": "text"
      },
      "cell_type": "markdown",
      "source": [
        "### Data augmentation"
      ]
    },
    {
      "metadata": {
        "id": "BelLKzODUlHW",
        "colab_type": "code",
        "outputId": "50f9be1b-4217-46fb-d367-99b3c7c22839",
        "colab": {
          "base_uri": "https://localhost:8080/",
          "height": 50
        }
      },
      "cell_type": "code",
      "source": [
        "train_datagen = ImageDataGenerator(\n",
        "    rescale=1./255, \n",
        "    rotation_range=40,\n",
        "    width_shift_range=0.2,\n",
        "    height_shift_range=0.2,\n",
        "    shear_range=0.2,\n",
        "    zoom_range=0.2,\n",
        "    horizontal_flip=True,\n",
        "    fill_mode='nearest'\n",
        ")\n",
        "\n",
        "train_generator = train_datagen.flow_from_directory(\n",
        "    train_dir,\n",
        "    target_size=(150, 150),\n",
        "    batch_size=20,\n",
        "    class_mode='binary')\n",
        "\n",
        "validation_datagen = ImageDataGenerator(rescale=1./255)\n",
        "\n",
        "validation_generator = validation_datagen.flow_from_directory(\n",
        "    validation_dir,\n",
        "    target_size=(150, 150),\n",
        "    batch_size=20,\n",
        "    class_mode='binary')"
      ],
      "execution_count": 47,
      "outputs": [
        {
          "output_type": "stream",
          "text": [
            "Found 2000 images belonging to 2 classes.\n",
            "Found 1000 images belonging to 2 classes.\n"
          ],
          "name": "stdout"
        }
      ]
    },
    {
      "metadata": {
        "id": "gu-27OhvUwNj",
        "colab_type": "text"
      },
      "cell_type": "markdown",
      "source": [
        "### Fine-tuning"
      ]
    },
    {
      "metadata": {
        "id": "5zRzOjNsUFtv",
        "colab_type": "code",
        "colab": {}
      },
      "cell_type": "code",
      "source": [
        "conv_base.trainable = True\n",
        "\n",
        "set_trainable = False\n",
        "for layer in conv_base.layers:\n",
        "  if layer.name == 'block5_conv1':\n",
        "    set_trainable = True\n",
        "  if set_trainable:\n",
        "    layer.trainable = True\n",
        "  else:\n",
        "    layer.trainable = False"
      ],
      "execution_count": 0,
      "outputs": []
    },
    {
      "metadata": {
        "id": "iGWchs5FVH6m",
        "colab_type": "text"
      },
      "cell_type": "markdown",
      "source": [
        "### Running model"
      ]
    },
    {
      "metadata": {
        "id": "Dt4koa7lTAAF",
        "colab_type": "code",
        "outputId": "99dedee0-344d-4217-e8b2-22a8b6c78a70",
        "colab": {
          "base_uri": "https://localhost:8080/",
          "height": 1025
        }
      },
      "cell_type": "code",
      "source": [
        "model.compile(\n",
        "    loss='binary_crossentropy', \n",
        "    optimizer=optimizers.RMSprop(lr=1e-5), \n",
        "    metrics=['acc']\n",
        ")\n",
        "\n",
        "\n",
        "history = model.fit_generator(\n",
        "    train_generator,\n",
        "    steps_per_epoch=100,\n",
        "    epochs=30,\n",
        "    validation_data=validation_generator,\n",
        "    validation_steps=50\n",
        ")"
      ],
      "execution_count": 49,
      "outputs": [
        {
          "output_type": "stream",
          "text": [
            "Epoch 1/30\n",
            "100/100 [==============================] - 38s 376ms/step - loss: 0.5412 - acc: 0.7105 - val_loss: 0.3951 - val_acc: 0.8080\n",
            "Epoch 2/30\n",
            "100/100 [==============================] - 33s 329ms/step - loss: 0.3936 - acc: 0.8140 - val_loss: 0.3089 - val_acc: 0.8610\n",
            "Epoch 3/30\n",
            "100/100 [==============================] - 32s 318ms/step - loss: 0.3268 - acc: 0.8590 - val_loss: 0.2693 - val_acc: 0.8840\n",
            "Epoch 4/30\n",
            "100/100 [==============================] - 33s 326ms/step - loss: 0.2913 - acc: 0.8715 - val_loss: 0.2383 - val_acc: 0.8980\n",
            "Epoch 5/30\n",
            "100/100 [==============================] - 33s 327ms/step - loss: 0.2605 - acc: 0.8860 - val_loss: 0.2447 - val_acc: 0.8980\n",
            "Epoch 6/30\n",
            "100/100 [==============================] - 32s 321ms/step - loss: 0.2438 - acc: 0.8995 - val_loss: 0.2039 - val_acc: 0.9100\n",
            "Epoch 7/30\n",
            "100/100 [==============================] - 34s 335ms/step - loss: 0.2310 - acc: 0.9085 - val_loss: 0.1864 - val_acc: 0.9190\n",
            "Epoch 8/30\n",
            "100/100 [==============================] - 33s 326ms/step - loss: 0.2217 - acc: 0.9110 - val_loss: 0.2094 - val_acc: 0.9190\n",
            "Epoch 9/30\n",
            "100/100 [==============================] - 33s 329ms/step - loss: 0.2049 - acc: 0.9180 - val_loss: 0.1741 - val_acc: 0.9280\n",
            "Epoch 10/30\n",
            "100/100 [==============================] - 33s 328ms/step - loss: 0.2027 - acc: 0.9140 - val_loss: 0.1902 - val_acc: 0.9250\n",
            "Epoch 11/30\n",
            "100/100 [==============================] - 32s 319ms/step - loss: 0.1819 - acc: 0.9265 - val_loss: 0.1754 - val_acc: 0.9320\n",
            "Epoch 12/30\n",
            "100/100 [==============================] - 33s 330ms/step - loss: 0.1792 - acc: 0.9245 - val_loss: 0.1638 - val_acc: 0.9400\n",
            "Epoch 13/30\n",
            "100/100 [==============================] - 32s 319ms/step - loss: 0.1614 - acc: 0.9375 - val_loss: 0.1729 - val_acc: 0.9370\n",
            "Epoch 14/30\n",
            "100/100 [==============================] - 25s 251ms/step - loss: 0.1723 - acc: 0.9290 - val_loss: 0.1510 - val_acc: 0.9440\n",
            "Epoch 15/30\n",
            "100/100 [==============================] - 20s 196ms/step - loss: 0.1516 - acc: 0.9415 - val_loss: 0.1796 - val_acc: 0.9390\n",
            "Epoch 16/30\n",
            "100/100 [==============================] - 19s 188ms/step - loss: 0.1481 - acc: 0.9450 - val_loss: 0.2501 - val_acc: 0.9120\n",
            "Epoch 17/30\n",
            "100/100 [==============================] - 19s 187ms/step - loss: 0.1479 - acc: 0.9440 - val_loss: 0.1673 - val_acc: 0.9380\n",
            "Epoch 18/30\n",
            "100/100 [==============================] - 19s 187ms/step - loss: 0.1373 - acc: 0.9420 - val_loss: 0.1782 - val_acc: 0.9380\n",
            "Epoch 19/30\n",
            "100/100 [==============================] - 20s 198ms/step - loss: 0.1413 - acc: 0.9445 - val_loss: 0.1745 - val_acc: 0.9370\n",
            "Epoch 20/30\n",
            "100/100 [==============================] - 22s 220ms/step - loss: 0.1120 - acc: 0.9515 - val_loss: 0.1804 - val_acc: 0.9430\n",
            "Epoch 21/30\n",
            "100/100 [==============================] - 19s 185ms/step - loss: 0.1248 - acc: 0.9460 - val_loss: 0.2260 - val_acc: 0.9240\n",
            "Epoch 22/30\n",
            "100/100 [==============================] - 19s 186ms/step - loss: 0.1076 - acc: 0.9585 - val_loss: 0.1804 - val_acc: 0.9430\n",
            "Epoch 23/30\n",
            "100/100 [==============================] - 20s 199ms/step - loss: 0.1239 - acc: 0.9565 - val_loss: 0.1956 - val_acc: 0.9380\n",
            "Epoch 24/30\n",
            "100/100 [==============================] - 19s 189ms/step - loss: 0.1085 - acc: 0.9530 - val_loss: 0.1912 - val_acc: 0.9360\n",
            "Epoch 25/30\n",
            "100/100 [==============================] - 19s 186ms/step - loss: 0.1035 - acc: 0.9625 - val_loss: 0.2633 - val_acc: 0.9130\n",
            "Epoch 26/30\n",
            "100/100 [==============================] - 19s 185ms/step - loss: 0.0977 - acc: 0.9580 - val_loss: 0.2903 - val_acc: 0.9200\n",
            "Epoch 27/30\n",
            "100/100 [==============================] - 20s 199ms/step - loss: 0.0990 - acc: 0.9610 - val_loss: 0.1868 - val_acc: 0.9440\n",
            "Epoch 28/30\n",
            "100/100 [==============================] - 19s 187ms/step - loss: 0.0814 - acc: 0.9685 - val_loss: 0.2285 - val_acc: 0.9350\n",
            "Epoch 29/30\n",
            "100/100 [==============================] - 19s 188ms/step - loss: 0.0988 - acc: 0.9590 - val_loss: 0.2996 - val_acc: 0.9240\n",
            "Epoch 30/30\n",
            "100/100 [==============================] - 20s 198ms/step - loss: 0.0919 - acc: 0.9670 - val_loss: 0.1917 - val_acc: 0.9450\n"
          ],
          "name": "stdout"
        }
      ]
    },
    {
      "metadata": {
        "id": "ykwA0WDVY6Wg",
        "colab_type": "text"
      },
      "cell_type": "markdown",
      "source": [
        "### Graphing accuracy"
      ]
    },
    {
      "metadata": {
        "id": "qw-GKs_XY9Hy",
        "colab_type": "code",
        "outputId": "46a7ccd9-3882-4f5a-8558-23ea07ed8714",
        "colab": {
          "base_uri": "https://localhost:8080/",
          "height": 545
        }
      },
      "cell_type": "code",
      "source": [
        "acc = history.history['acc']\n",
        "val_acc = history.history['val_acc']\n",
        "\n",
        "loss = history.history['loss']\n",
        "val_loss = history.history['val_loss']\n",
        "\n",
        "epochs = range(1, len(acc) + 1)\n",
        "\n",
        "plt.plot(epochs, acc, 'bo', label='training acc')\n",
        "plt.plot(epochs, val_acc, 'b', label='validation acc')\n",
        "plt.title('training and validation accuracy')\n",
        "plt.legend()\n",
        "\n",
        "plt.figure()\n",
        "\n",
        "plt.plot(epochs, loss, 'bo', label='training loss')\n",
        "plt.plot(epochs, val_loss, 'b', label='validation loss')\n",
        "plt.title('training and validation loss')\n",
        "plt.legend()\n",
        "\n",
        "plt.show()"
      ],
      "execution_count": 50,
      "outputs": [
        {
          "output_type": "display_data",
          "data": {
            "image/png": "[encoded data removed]",
            "text/plain": [
              "<Figure size 432x288 with 1 Axes>"
            ]
          },
          "metadata": {
            "tags": []
          }
        },
        {
          "output_type": "display_data",
          "data": {
            "image/png": "[encoded data removed]",
            "text/plain": [
              "<Figure size 432x288 with 1 Axes>"
            ]
          },
          "metadata": {
            "tags": []
          }
        }
      ]
    },
    {
      "metadata": {
        "id": "Q9sZN1S-bKea",
        "colab_type": "text"
      },
      "cell_type": "markdown",
      "source": [
        "### Print out validation loss and accuracy"
      ]
    },
    {
      "metadata": {
        "id": "bZQq2hezbM6h",
        "colab_type": "code",
        "outputId": "09a90b61-3c2d-40fd-f648-582eea08ed7c",
        "colab": {
          "base_uri": "https://localhost:8080/",
          "height": 50
        }
      },
      "cell_type": "code",
      "source": [
        "val_loss, val_acc = model.evaluate_generator(validation_generator, steps=50)\n",
        "\n",
        "print(\"Validation loss:\", val_loss)\n",
        "print(\"Validation accuracy:\", val_acc)"
      ],
      "execution_count": 51,
      "outputs": [
        {
          "output_type": "stream",
          "text": [
            "Validation loss: 0.18755165252659936\n",
            "Validation accuracy: 0.9449999928474426\n"
          ],
          "name": "stdout"
        }
      ]
    },
    {
      "metadata": {
        "id": "Rs9YSV12bWSt",
        "colab_type": "text"
      },
      "cell_type": "markdown",
      "source": [
        "### Save the model"
      ]
    },
    {
      "metadata": {
        "id": "T2NRkY6jbYcv",
        "colab_type": "code",
        "colab": {
          "base_uri": "https://localhost:8080/",
          "height": 437
        },
        "outputId": "23ba58f9-28cf-42b2-9082-95d0868db1c2"
      },
      "cell_type": "code",
      "source": [
        "model_fname = 'cats_and_dogs_finetuning.h5' \n",
        "model.save(model_fname)\n",
        "\n",
        "with open(model_fname, 'r+') as f:\n",
        "  files.download(model_fname)"
      ],
      "execution_count": 53,
      "outputs": [
        {
          "output_type": "stream",
          "text": [
            "----------------------------------------\n",
            "Exception happened during processing of request from ('::ffff:127.0.0.1', 51270, 0, 0)\n",
            "Traceback (most recent call last):\n",
            "  File \"/usr/lib/python3.6/socketserver.py\", line 317, in _handle_request_noblock\n",
            "    self.process_request(request, client_address)\n",
            "  File \"/usr/lib/python3.6/socketserver.py\", line 348, in process_request\n",
            "    self.finish_request(request, client_address)\n",
            "  File \"/usr/lib/python3.6/socketserver.py\", line 361, in finish_request\n",
            "    self.RequestHandlerClass(request, client_address, self)\n",
            "  File \"/usr/lib/python3.6/socketserver.py\", line 721, in __init__\n",
            "    self.handle()\n",
            "  File \"/usr/lib/python3.6/http/server.py\", line 418, in handle\n",
            "    self.handle_one_request()\n",
            "  File \"/usr/lib/python3.6/http/server.py\", line 406, in handle_one_request\n",
            "    method()\n",
            "  File \"/usr/lib/python3.6/http/server.py\", line 639, in do_GET\n",
            "    self.copyfile(f, self.wfile)\n",
            "  File \"/usr/lib/python3.6/http/server.py\", line 800, in copyfile\n",
            "    shutil.copyfileobj(source, outputfile)\n",
            "  File \"/usr/lib/python3.6/shutil.py\", line 82, in copyfileobj\n",
            "    fdst.write(buf)\n",
            "  File \"/usr/lib/python3.6/socketserver.py\", line 800, in write\n",
            "    self._sock.sendall(b)\n",
            "ConnectionResetError: [Errno 104] Connection reset by peer\n",
            "----------------------------------------\n"
          ],
          "name": "stderr"
        }
      ]
    }
  ]
}