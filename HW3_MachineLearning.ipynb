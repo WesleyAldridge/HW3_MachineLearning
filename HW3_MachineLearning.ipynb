{
  "nbformat": 4,
  "nbformat_minor": 0,
  "metadata": {
    "colab": {
      "name": "HW3_MachineLearning",
      "version": "0.3.2",
      "provenance": [],
      "collapsed_sections": [],
      "include_colab_link": true
    },
    "kernelspec": {
      "name": "python3",
      "display_name": "Python 3"
    },
    "accelerator": "GPU"
  },
  "cells": [
    {
      "cell_type": "markdown",
      "metadata": {
        "id": "view-in-github",
        "colab_type": "text"
      },
      "source": [
        "<a href=\"https://colab.research.google.com/github/WesleyAldridge/HW3_MachineLearning/blob/master/HW3_MachineLearning.ipynb\" target=\"_parent\"><img src=\"https://colab.research.google.com/assets/colab-badge.svg\" alt=\"Open In Colab\"/></a>"
      ]
    },
    {
      "metadata": {
        "id": "rt44vyY1xW9b",
        "colab_type": "text"
      },
      "cell_type": "markdown",
      "source": [
        "# Problem 1\n",
        "## Feature extraction with data augmentation."
      ]
    },
    {
      "metadata": {
        "id": "Pfuun9431eEs",
        "colab_type": "text"
      },
      "cell_type": "markdown",
      "source": [
        "###Instructions from professor:\n",
        "\n",
        "\"The goal of this homework is to learn how to leverage pretrained convnets and to use some visualization techniques. You will work with the data set cats vs dogs and use the pretrained convnet VGG19.\n",
        "\n",
        "Experiment with different classifiers, trying to maximize the validation accuracy. You only need to show one classifier.\""
      ]
    },
    {
      "metadata": {
        "id": "kax-TVijJpsG",
        "colab_type": "text"
      },
      "cell_type": "markdown",
      "source": [
        "### Imports"
      ]
    },
    {
      "metadata": {
        "id": "K1vTNUeRJW3x",
        "colab_type": "code",
        "colab": {}
      },
      "cell_type": "code",
      "source": [
        "from keras import layers, models, optimizers\n",
        "from keras.applications import VGG19\n",
        "from keras.preprocessing import image\n",
        "from keras.preprocessing.image import ImageDataGenerator\n",
        "\n",
        "import matplotlib.pyplot as plt\n",
        "\n",
        "import numpy as np\n",
        "\n",
        "import os\n",
        "\n",
        "import zipfile"
      ],
      "execution_count": 0,
      "outputs": []
    },
    {
      "metadata": {
        "id": "mSXztdbHMtjW",
        "colab_type": "text"
      },
      "cell_type": "markdown",
      "source": [
        "### Getting the cats_and_dogs data"
      ]
    },
    {
      "metadata": {
        "id": "5wonr7Qs-A1L",
        "colab_type": "code",
        "outputId": "3fe38015-b5ba-4a44-8421-3d76101012ab",
        "colab": {
          "base_uri": "https://localhost:8080/",
          "height": 202
        }
      },
      "cell_type": "code",
      "source": [
        "!wget --no-check-certificate \\\n",
        "    https://storage.googleapis.com/mledu-datasets/cats_and_dogs_filtered.zip \\\n",
        "    -O /tmp/cats_and_dogs_filtered.zip"
      ],
      "execution_count": 8,
      "outputs": [
        {
          "output_type": "stream",
          "text": [
            "--2019-04-18 01:51:53--  https://storage.googleapis.com/mledu-datasets/cats_and_dogs_filtered.zip\n",
            "Resolving storage.googleapis.com (storage.googleapis.com)... 74.125.195.128, 2607:f8b0:400e:c09::80\n",
            "Connecting to storage.googleapis.com (storage.googleapis.com)|74.125.195.128|:443... connected.\n",
            "HTTP request sent, awaiting response... 200 OK\n",
            "Length: 68606236 (65M) [application/zip]\n",
            "Saving to: ‘/tmp/cats_and_dogs_filtered.zip’\n",
            "\n",
            "/tmp/cats_and_dogs_ 100%[===================>]  65.43M   147MB/s    in 0.4s    \n",
            "\n",
            "2019-04-18 01:51:54 (147 MB/s) - ‘/tmp/cats_and_dogs_filtered.zip’ saved [68606236/68606236]\n",
            "\n"
          ],
          "name": "stdout"
        }
      ]
    },
    {
      "metadata": {
        "id": "QjBshpBO-GAq",
        "colab_type": "code",
        "colab": {}
      },
      "cell_type": "code",
      "source": [
        "local_zip = '/tmp/cats_and_dogs_filtered.zip'\n",
        "zip_ref = zipfile.ZipFile(local_zip, 'r')\n",
        "zip_ref.extractall('/tmp')\n",
        "zip_ref.close()\n",
        "\n",
        "base_dir = '/tmp/cats_and_dogs_filtered'\n",
        "train_dir = os.path.join(base_dir, 'train')\n",
        "validation_dir = os.path.join(base_dir, 'validation')"
      ],
      "execution_count": 0,
      "outputs": []
    },
    {
      "metadata": {
        "id": "2A7DGg7MKeD8",
        "colab_type": "text"
      },
      "cell_type": "markdown",
      "source": [
        "### Creating model with VGG19 as convolutional base"
      ]
    },
    {
      "metadata": {
        "id": "-hyy-5Ry_G5_",
        "colab_type": "code",
        "colab": {}
      },
      "cell_type": "code",
      "source": [
        "conv_base = VGG19(\n",
        "    weights='imagenet', \n",
        "    include_top=False, \n",
        "    input_shape=(150, 150, 3))\n",
        "\n",
        "conv_base.trainable = False"
      ],
      "execution_count": 0,
      "outputs": []
    },
    {
      "metadata": {
        "id": "AMwjxFpmsQvZ",
        "colab_type": "code",
        "outputId": "cb632bf5-3035-431e-9a51-5b7fa5683021",
        "colab": {
          "base_uri": "https://localhost:8080/",
          "height": 269
        }
      },
      "cell_type": "code",
      "source": [
        "model = models.Sequential()\n",
        "model.add(conv_base)\n",
        "model.add(layers.Flatten())\n",
        "model.add(layers.Dense(256, activation='relu'))\n",
        "# no dropout\n",
        "model.add(layers.Dense(1, activation='sigmoid'))\n",
        "\n",
        "model.summary()"
      ],
      "execution_count": 13,
      "outputs": [
        {
          "output_type": "stream",
          "text": [
            "_________________________________________________________________\n",
            "Layer (type)                 Output Shape              Param #   \n",
            "=================================================================\n",
            "vgg19 (Model)                (None, 4, 4, 512)         20024384  \n",
            "_________________________________________________________________\n",
            "flatten_2 (Flatten)          (None, 8192)              0         \n",
            "_________________________________________________________________\n",
            "dense_3 (Dense)              (None, 256)               2097408   \n",
            "_________________________________________________________________\n",
            "dense_4 (Dense)              (None, 1)                 257       \n",
            "=================================================================\n",
            "Total params: 22,122,049\n",
            "Trainable params: 2,097,665\n",
            "Non-trainable params: 20,024,384\n",
            "_________________________________________________________________\n"
          ],
          "name": "stdout"
        }
      ]
    },
    {
      "metadata": {
        "id": "d68ZQUYMJT_l",
        "colab_type": "text"
      },
      "cell_type": "markdown",
      "source": [
        "### Data augmentation"
      ]
    },
    {
      "metadata": {
        "id": "tS5-2g4ysYlA",
        "colab_type": "code",
        "outputId": "52ef6ad1-4c85-4e15-f217-43e4dd1fd07f",
        "colab": {
          "base_uri": "https://localhost:8080/",
          "height": 1058
        }
      },
      "cell_type": "code",
      "source": [
        "train_datagen = ImageDataGenerator(\n",
        "    rescale=1./255, \n",
        "    rotation_range=40,\n",
        "    width_shift_range=0.2,\n",
        "    height_shift_range=0.2,\n",
        "    shear_range=0.2,\n",
        "    zoom_range=0.2,\n",
        "    horizontal_flip=True,\n",
        "    fill_mode='nearest'\n",
        ")\n",
        "\n",
        "train_generator = train_datagen.flow_from_directory(\n",
        "    train_dir,\n",
        "    target_size=(150, 150),\n",
        "    batch_size=20,\n",
        "    class_mode='binary')\n",
        "\n",
        "validation_datagen = ImageDataGenerator(rescale=1./255)\n",
        "\n",
        "validation_generator = validation_datagen.flow_from_directory(\n",
        "    validation_dir,\n",
        "    target_size=(150, 150),\n",
        "    batch_size=20,\n",
        "    class_mode='binary')\n",
        "\n",
        "# compile model\n",
        "\n",
        "model.compile(\n",
        "    loss='binary_crossentropy', \n",
        "    optimizer=optimizers.RMSprop(lr=2e-5), \n",
        "    metrics=['acc'])\n",
        "\n",
        "# train\n",
        "\n",
        "history = model.fit_generator(\n",
        "    train_generator,\n",
        "    steps_per_epoch=100,\n",
        "    epochs=30,\n",
        "    validation_data=validation_generator,\n",
        "    validation_steps=50\n",
        ")"
      ],
      "execution_count": 14,
      "outputs": [
        {
          "output_type": "stream",
          "text": [
            "Found 2000 images belonging to 2 classes.\n",
            "Found 1000 images belonging to 2 classes.\n",
            "Epoch 1/30\n",
            "100/100 [==============================] - 21s 211ms/step - loss: 0.6417 - acc: 0.6205 - val_loss: 0.5182 - val_acc: 0.7760\n",
            "Epoch 2/30\n",
            "100/100 [==============================] - 18s 179ms/step - loss: 0.5426 - acc: 0.7305 - val_loss: 0.4401 - val_acc: 0.8100\n",
            "Epoch 3/30\n",
            "100/100 [==============================] - 19s 194ms/step - loss: 0.4892 - acc: 0.7695 - val_loss: 0.3887 - val_acc: 0.8260\n",
            "Epoch 4/30\n",
            "100/100 [==============================] - 18s 178ms/step - loss: 0.4546 - acc: 0.7965 - val_loss: 0.3544 - val_acc: 0.8540\n",
            "Epoch 5/30\n",
            "100/100 [==============================] - 18s 178ms/step - loss: 0.4258 - acc: 0.8030 - val_loss: 0.3347 - val_acc: 0.8560\n",
            "Epoch 6/30\n",
            "100/100 [==============================] - 18s 178ms/step - loss: 0.4242 - acc: 0.8065 - val_loss: 0.3225 - val_acc: 0.8590\n",
            "Epoch 7/30\n",
            "100/100 [==============================] - 18s 184ms/step - loss: 0.3971 - acc: 0.8285 - val_loss: 0.3445 - val_acc: 0.8530\n",
            "Epoch 8/30\n",
            "100/100 [==============================] - 18s 182ms/step - loss: 0.3986 - acc: 0.8165 - val_loss: 0.3296 - val_acc: 0.8540\n",
            "Epoch 9/30\n",
            "100/100 [==============================] - 18s 178ms/step - loss: 0.3997 - acc: 0.8250 - val_loss: 0.3041 - val_acc: 0.8700\n",
            "Epoch 10/30\n",
            "100/100 [==============================] - 18s 184ms/step - loss: 0.3828 - acc: 0.8365 - val_loss: 0.3048 - val_acc: 0.8640\n",
            "Epoch 11/30\n",
            "100/100 [==============================] - 18s 177ms/step - loss: 0.3740 - acc: 0.8360 - val_loss: 0.3288 - val_acc: 0.8580\n",
            "Epoch 12/30\n",
            "100/100 [==============================] - 19s 191ms/step - loss: 0.3662 - acc: 0.8285 - val_loss: 0.3131 - val_acc: 0.8710\n",
            "Epoch 13/30\n",
            "100/100 [==============================] - 18s 180ms/step - loss: 0.3513 - acc: 0.8510 - val_loss: 0.2796 - val_acc: 0.8780\n",
            "Epoch 14/30\n",
            "100/100 [==============================] - 18s 178ms/step - loss: 0.3534 - acc: 0.8430 - val_loss: 0.2790 - val_acc: 0.8780\n",
            "Epoch 15/30\n",
            "100/100 [==============================] - 18s 179ms/step - loss: 0.3560 - acc: 0.8465 - val_loss: 0.2735 - val_acc: 0.8820\n",
            "Epoch 16/30\n",
            "100/100 [==============================] - 19s 188ms/step - loss: 0.3530 - acc: 0.8305 - val_loss: 0.2764 - val_acc: 0.8820\n",
            "Epoch 17/30\n",
            "100/100 [==============================] - 18s 179ms/step - loss: 0.3399 - acc: 0.8550 - val_loss: 0.2727 - val_acc: 0.8780\n",
            "Epoch 18/30\n",
            "100/100 [==============================] - 19s 190ms/step - loss: 0.3467 - acc: 0.8450 - val_loss: 0.2740 - val_acc: 0.8750\n",
            "Epoch 19/30\n",
            "100/100 [==============================] - 18s 177ms/step - loss: 0.3420 - acc: 0.8510 - val_loss: 0.2807 - val_acc: 0.8810\n",
            "Epoch 20/30\n",
            "100/100 [==============================] - 18s 177ms/step - loss: 0.3353 - acc: 0.8505 - val_loss: 0.2669 - val_acc: 0.8830\n",
            "Epoch 21/30\n",
            "100/100 [==============================] - 19s 189ms/step - loss: 0.3393 - acc: 0.8490 - val_loss: 0.2635 - val_acc: 0.8860\n",
            "Epoch 22/30\n",
            "100/100 [==============================] - 18s 178ms/step - loss: 0.3407 - acc: 0.8480 - val_loss: 0.2652 - val_acc: 0.8840\n",
            "Epoch 23/30\n",
            "100/100 [==============================] - 18s 177ms/step - loss: 0.3282 - acc: 0.8515 - val_loss: 0.2741 - val_acc: 0.8760\n",
            "Epoch 24/30\n",
            "100/100 [==============================] - 18s 176ms/step - loss: 0.3380 - acc: 0.8495 - val_loss: 0.2662 - val_acc: 0.8790\n",
            "Epoch 25/30\n",
            "100/100 [==============================] - 19s 191ms/step - loss: 0.3322 - acc: 0.8425 - val_loss: 0.2921 - val_acc: 0.8740\n",
            "Epoch 26/30\n",
            "100/100 [==============================] - 18s 177ms/step - loss: 0.3202 - acc: 0.8600 - val_loss: 0.2917 - val_acc: 0.8740\n",
            "Epoch 27/30\n",
            "100/100 [==============================] - 18s 185ms/step - loss: 0.3198 - acc: 0.8615 - val_loss: 0.2616 - val_acc: 0.8870\n",
            "Epoch 28/30\n",
            "100/100 [==============================] - 18s 178ms/step - loss: 0.3286 - acc: 0.8505 - val_loss: 0.2629 - val_acc: 0.8810\n",
            "Epoch 29/30\n",
            "100/100 [==============================] - 18s 179ms/step - loss: 0.3227 - acc: 0.8650 - val_loss: 0.2573 - val_acc: 0.8860\n",
            "Epoch 30/30\n",
            "100/100 [==============================] - 19s 187ms/step - loss: 0.3320 - acc: 0.8500 - val_loss: 0.2542 - val_acc: 0.8890\n"
          ],
          "name": "stdout"
        }
      ]
    },
    {
      "metadata": {
        "id": "BzksVTaHK2Kd",
        "colab_type": "text"
      },
      "cell_type": "markdown",
      "source": [
        "### Graph accuracy"
      ]
    },
    {
      "metadata": {
        "id": "TmeoA5CqK3S8",
        "colab_type": "code",
        "colab": {
          "base_uri": "https://localhost:8080/",
          "height": 545
        },
        "outputId": "053a2ec1-bec5-4331-e90e-10716a01f383"
      },
      "cell_type": "code",
      "source": [
        "acc = history.history['acc']\n",
        "val_acc = history.history['val_acc']\n",
        "\n",
        "loss = history.history['loss']\n",
        "val_loss = history.history['val_loss']\n",
        "\n",
        "epochs = range(1, len(acc) + 1)\n",
        "\n",
        "# training and validation accuracy\n",
        "\n",
        "plt.plot(epochs, acc, 'bo', label='training acc')\n",
        "plt.plot(epochs, val_acc, 'b', label='validation acc')\n",
        "plt.title('training and validation accuracy')\n",
        "plt.legend()\n",
        "\n",
        "plt.figure()\n",
        "\n",
        "# training and validation loss\n",
        "\n",
        "plt.plot(epochs, loss, 'bo', label='training loss')\n",
        "plt.plot(epochs, val_loss, 'b', label='validation loss')\n",
        "plt.title('training and validation loss')\n",
        "plt.legend()\n",
        "\n",
        "plt.show()"
      ],
      "execution_count": 16,
      "outputs": [
        {
          "output_type": "display_data",
          "data": {
            "image/png": "[encoded data removed]",
            "text/plain": [
              "<Figure size 432x288 with 1 Axes>"
            ]
          },
          "metadata": {
            "tags": []
          }
        },
        {
          "output_type": "display_data",
          "data": {
            "image/png": "[encoded data removed]",
            "text/plain": [
              "<Figure size 432x288 with 1 Axes>"
            ]
          },
          "metadata": {
            "tags": []
          }
        }
      ]
    },
    {
      "metadata": {
        "id": "0MjvGP5uLG0A",
        "colab_type": "code",
        "colab": {
          "base_uri": "https://localhost:8080/",
          "height": 50
        },
        "outputId": "26d38c3e-d5ee-42f2-cb1e-021572932efd"
      },
      "cell_type": "code",
      "source": [
        "val_loss, val_acc = model.evaluate_generator(validation_generator, steps=50)\n",
        "print(\"Validation loss:\", val_loss)\n",
        "print(\"Validation accuracy:\", val_acc)"
      ],
      "execution_count": 18,
      "outputs": [
        {
          "output_type": "stream",
          "text": [
            "Validation loss: 0.268571197912097\n",
            "Validation accuracy: 0.8899999952316284\n"
          ],
          "name": "stdout"
        }
      ]
    }
  ]
}