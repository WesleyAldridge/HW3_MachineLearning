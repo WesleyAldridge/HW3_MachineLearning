{
  "nbformat": 4,
  "nbformat_minor": 0,
  "metadata": {
    "colab": {
      "name": "HW3_MachineLearning",
      "version": "0.3.2",
      "provenance": [],
      "collapsed_sections": [],
      "include_colab_link": true
    },
    "kernelspec": {
      "name": "python3",
      "display_name": "Python 3"
    },
    "accelerator": "GPU"
  },
  "cells": [
    {
      "cell_type": "markdown",
      "metadata": {
        "id": "view-in-github",
        "colab_type": "text"
      },
      "source": [
        "<a href=\"https://colab.research.google.com/github/WesleyAldridge/HW3_MachineLearning/blob/master/HW3_MachineLearning.ipynb\" target=\"_parent\"><img src=\"https://colab.research.google.com/assets/colab-badge.svg\" alt=\"Open In Colab\"/></a>"
      ]
    },
    {
      "metadata": {
        "id": "rt44vyY1xW9b",
        "colab_type": "text"
      },
      "cell_type": "markdown",
      "source": [
        "# HW3 - Data Visualization For cats and dogs data set using convnet VGG19"
      ]
    },
    {
      "metadata": {
        "id": "Pfuun9431eEs",
        "colab_type": "text"
      },
      "cell_type": "markdown",
      "source": [
        "###Instructions from professor:\n",
        "\n",
        "\"The goal of this homework is to learn how to leverage pretrained convnets and to use some visualization techniques. You will work with the data set cats vs dogs and use the pretrained convnet VGG19.\n",
        "\n",
        "Experiment with different classifiers, trying to maximize the validation accuracy. You only need to show one classifier.\""
      ]
    },
    {
      "metadata": {
        "id": "mSXztdbHMtjW",
        "colab_type": "text"
      },
      "cell_type": "markdown",
      "source": [
        "### Getting the cats_and_dogs data"
      ]
    },
    {
      "metadata": {
        "id": "5wonr7Qs-A1L",
        "colab_type": "code",
        "outputId": "a7243518-f98e-4894-eb9e-5feaee4d16c9",
        "colab": {
          "base_uri": "https://localhost:8080/",
          "height": 202
        }
      },
      "cell_type": "code",
      "source": [
        "!wget --no-check-certificate \\\n",
        "    https://storage.googleapis.com/mledu-datasets/cats_and_dogs_filtered.zip \\\n",
        "    -O /tmp/cats_and_dogs_filtered.zip"
      ],
      "execution_count": 2,
      "outputs": [
        {
          "output_type": "stream",
          "text": [
            "--2019-04-17 00:26:51--  https://storage.googleapis.com/mledu-datasets/cats_and_dogs_filtered.zip\n",
            "Resolving storage.googleapis.com (storage.googleapis.com)... 74.125.195.128, 2607:f8b0:400e:c09::80\n",
            "Connecting to storage.googleapis.com (storage.googleapis.com)|74.125.195.128|:443... connected.\n",
            "HTTP request sent, awaiting response... 200 OK\n",
            "Length: 68606236 (65M) [application/zip]\n",
            "Saving to: ‘/tmp/cats_and_dogs_filtered.zip’\n",
            "\n",
            "/tmp/cats_and_dogs_ 100%[===================>]  65.43M  91.2MB/s    in 0.7s    \n",
            "\n",
            "2019-04-17 00:26:57 (91.2 MB/s) - ‘/tmp/cats_and_dogs_filtered.zip’ saved [68606236/68606236]\n",
            "\n"
          ],
          "name": "stdout"
        }
      ]
    },
    {
      "metadata": {
        "id": "QjBshpBO-GAq",
        "colab_type": "code",
        "colab": {}
      },
      "cell_type": "code",
      "source": [
        "import os\n",
        "import zipfile\n",
        "\n",
        "local_zip = '/tmp/cats_and_dogs_filtered.zip'\n",
        "zip_ref = zipfile.ZipFile(local_zip, 'r')\n",
        "zip_ref.extractall('/tmp')\n",
        "zip_ref.close()"
      ],
      "execution_count": 0,
      "outputs": []
    },
    {
      "metadata": {
        "id": "hrSnRpEb-YTS",
        "colab_type": "code",
        "colab": {}
      },
      "cell_type": "code",
      "source": [
        "base_dir = '/tmp/cats_and_dogs_filtered'\n",
        "train_dir = os.path.join(base_dir, 'train')\n",
        "validation_dir = os.path.join(base_dir, 'validation')\n",
        "\n",
        "# Directory with our training cat pictures\n",
        "train_cats_dir = os.path.join(train_dir, 'cats')\n",
        "\n",
        "# Directory with our training dog pictures\n",
        "train_dogs_dir = os.path.join(train_dir, 'dogs')\n",
        "\n",
        "# Directory with our validation cat pictures\n",
        "validation_cats_dir = os.path.join(validation_dir, 'cats')\n",
        "\n",
        "# Directory with our validation dog pictures\n",
        "validation_dogs_dir = os.path.join(validation_dir, 'dogs')"
      ],
      "execution_count": 0,
      "outputs": []
    },
    {
      "metadata": {
        "id": "l34GNy7tyNks",
        "colab_type": "text"
      },
      "cell_type": "markdown",
      "source": [
        "## Problem 1\n",
        "\n",
        "Do feature extraction with data augmentation."
      ]
    },
    {
      "metadata": {
        "id": "-hyy-5Ry_G5_",
        "colab_type": "code",
        "colab": {
          "base_uri": "https://localhost:8080/",
          "height": 121
        },
        "outputId": "b73a7fc2-eca4-4c7c-c136-0c4853a886db"
      },
      "cell_type": "code",
      "source": [
        "from keras.applications import VGG19\n",
        "\n",
        "conv_base = VGG19(\n",
        "    weights='imagenet', \n",
        "    include_top=False, \n",
        "    input_shape=(150, 150, 3))"
      ],
      "execution_count": 5,
      "outputs": [
        {
          "output_type": "stream",
          "text": [
            "WARNING:tensorflow:From /usr/local/lib/python3.6/dist-packages/tensorflow/python/framework/op_def_library.py:263: colocate_with (from tensorflow.python.framework.ops) is deprecated and will be removed in a future version.\n",
            "Instructions for updating:\n",
            "Colocations handled automatically by placer.\n",
            "Downloading data from https://github.com/fchollet/deep-learning-models/releases/download/v0.1/vgg19_weights_tf_dim_ordering_tf_kernels_notop.h5\n",
            "80142336/80134624 [==============================] - 2s 0us/step\n"
          ],
          "name": "stdout"
        }
      ]
    },
    {
      "metadata": {
        "id": "z5ZI1Q_SsMr8",
        "colab_type": "code",
        "colab": {}
      },
      "cell_type": "code",
      "source": [
        "conv_base.trainable = False"
      ],
      "execution_count": 0,
      "outputs": []
    },
    {
      "metadata": {
        "id": "AMwjxFpmsQvZ",
        "colab_type": "code",
        "colab": {
          "base_uri": "https://localhost:8080/",
          "height": 269
        },
        "outputId": "1a67c75a-5d70-4fa1-bb3b-06ed004be9a8"
      },
      "cell_type": "code",
      "source": [
        "from keras import layers\n",
        "from keras import models\n",
        "from keras import optimizers\n",
        "\n",
        "model = models.Sequential()\n",
        "model.add(conv_base)\n",
        "model.add(layers.Flatten())\n",
        "model.add(layers.Dense(256, activation='relu'))\n",
        "# no dropout\n",
        "model.add(layers.Dense(1, activation='sigmoid'))\n",
        "\n",
        "model.summary()"
      ],
      "execution_count": 8,
      "outputs": [
        {
          "output_type": "stream",
          "text": [
            "_________________________________________________________________\n",
            "Layer (type)                 Output Shape              Param #   \n",
            "=================================================================\n",
            "vgg19 (Model)                (None, 4, 4, 512)         20024384  \n",
            "_________________________________________________________________\n",
            "flatten_2 (Flatten)          (None, 8192)              0         \n",
            "_________________________________________________________________\n",
            "dense_3 (Dense)              (None, 256)               2097408   \n",
            "_________________________________________________________________\n",
            "dense_4 (Dense)              (None, 1)                 257       \n",
            "=================================================================\n",
            "Total params: 22,122,049\n",
            "Trainable params: 2,097,665\n",
            "Non-trainable params: 20,024,384\n",
            "_________________________________________________________________\n"
          ],
          "name": "stdout"
        }
      ]
    },
    {
      "metadata": {
        "id": "tS5-2g4ysYlA",
        "colab_type": "code",
        "colab": {
          "base_uri": "https://localhost:8080/",
          "height": 1129
        },
        "outputId": "023c893c-7200-40dd-bfd3-26cab0ede846"
      },
      "cell_type": "code",
      "source": [
        "from keras.preprocessing.image import ImageDataGenerator\n",
        "from keras import optimizers\n",
        "\n",
        "# data augmentation\n",
        "\n",
        "train_datagen = ImageDataGenerator(\n",
        "    rescale=1./255, \n",
        "    rotation_range=40,\n",
        "    width_shift_range=0.2,\n",
        "    height_shift_range=0.2,\n",
        "    shear_range=0.2,\n",
        "    zoom_range=0.2,\n",
        "    horizontal_flip=True,\n",
        "    fill_mode='nearest'\n",
        ")\n",
        "\n",
        "train_generator = train_datagen.flow_from_directory(\n",
        "    train_dir,\n",
        "    target_size=(150, 150),\n",
        "    batch_size=20,\n",
        "    class_mode='binary')\n",
        "\n",
        "validation_datagen = ImageDataGenerator(rescale=1./255)\n",
        "\n",
        "validation_generator = validation_datagen.flow_from_directory(\n",
        "    validation_dir,\n",
        "    target_size=(150, 150),\n",
        "    batch_size=20,\n",
        "    class_mode='binary')\n",
        "\n",
        "# compile model\n",
        "\n",
        "model.compile(\n",
        "    loss='binary_crossentropy', \n",
        "    optimizer=optimizers.RMSprop(lr=2e-5), \n",
        "    metrics=['acc'])\n",
        "\n",
        "# train\n",
        "\n",
        "history = model.fit_generator(\n",
        "    train_generator,\n",
        "    steps_per_epoch=100,\n",
        "    epochs=30,\n",
        "    validation_data=validation_generator,\n",
        "    validation_steps=50\n",
        ")"
      ],
      "execution_count": 10,
      "outputs": [
        {
          "output_type": "stream",
          "text": [
            "Found 2000 images belonging to 2 classes.\n",
            "Found 1000 images belonging to 2 classes.\n",
            "WARNING:tensorflow:From /usr/local/lib/python3.6/dist-packages/tensorflow/python/ops/math_ops.py:3066: to_int32 (from tensorflow.python.ops.math_ops) is deprecated and will be removed in a future version.\n",
            "Instructions for updating:\n",
            "Use tf.cast instead.\n",
            "Epoch 1/30\n",
            "100/100 [==============================] - 23s 228ms/step - loss: 0.6255 - acc: 0.6510 - val_loss: 0.5217 - val_acc: 0.7540\n",
            "Epoch 2/30\n",
            "100/100 [==============================] - 18s 175ms/step - loss: 0.5274 - acc: 0.7525 - val_loss: 0.4411 - val_acc: 0.8110\n",
            "Epoch 3/30\n",
            "100/100 [==============================] - 19s 190ms/step - loss: 0.4864 - acc: 0.7755 - val_loss: 0.3985 - val_acc: 0.8220\n",
            "Epoch 4/30\n",
            "100/100 [==============================] - 18s 180ms/step - loss: 0.4583 - acc: 0.7920 - val_loss: 0.3641 - val_acc: 0.8400\n",
            "Epoch 5/30\n",
            "100/100 [==============================] - 18s 177ms/step - loss: 0.4221 - acc: 0.8195 - val_loss: 0.3471 - val_acc: 0.8420\n",
            "Epoch 6/30\n",
            "100/100 [==============================] - 19s 190ms/step - loss: 0.4162 - acc: 0.8160 - val_loss: 0.3383 - val_acc: 0.8480\n",
            "Epoch 7/30\n",
            "100/100 [==============================] - 18s 183ms/step - loss: 0.3976 - acc: 0.8200 - val_loss: 0.3273 - val_acc: 0.8540\n",
            "Epoch 8/30\n",
            "100/100 [==============================] - 18s 179ms/step - loss: 0.3967 - acc: 0.8235 - val_loss: 0.3167 - val_acc: 0.8600\n",
            "Epoch 9/30\n",
            "100/100 [==============================] - 18s 177ms/step - loss: 0.3924 - acc: 0.8210 - val_loss: 0.3140 - val_acc: 0.8560\n",
            "Epoch 10/30\n",
            "100/100 [==============================] - 18s 177ms/step - loss: 0.3761 - acc: 0.8355 - val_loss: 0.3421 - val_acc: 0.8580\n",
            "Epoch 11/30\n",
            "100/100 [==============================] - 18s 176ms/step - loss: 0.3751 - acc: 0.8355 - val_loss: 0.3086 - val_acc: 0.8530\n",
            "Epoch 12/30\n",
            "100/100 [==============================] - 19s 189ms/step - loss: 0.3701 - acc: 0.8360 - val_loss: 0.3070 - val_acc: 0.8660\n",
            "Epoch 13/30\n",
            "100/100 [==============================] - 18s 175ms/step - loss: 0.3643 - acc: 0.8395 - val_loss: 0.2886 - val_acc: 0.8720\n",
            "Epoch 14/30\n",
            "100/100 [==============================] - 18s 176ms/step - loss: 0.3655 - acc: 0.8420 - val_loss: 0.3024 - val_acc: 0.8730\n",
            "Epoch 15/30\n",
            "100/100 [==============================] - 18s 175ms/step - loss: 0.3370 - acc: 0.8515 - val_loss: 0.2862 - val_acc: 0.8770\n",
            "Epoch 16/30\n",
            "100/100 [==============================] - 18s 183ms/step - loss: 0.3601 - acc: 0.8305 - val_loss: 0.2785 - val_acc: 0.8810\n",
            "Epoch 17/30\n",
            "100/100 [==============================] - 18s 179ms/step - loss: 0.3483 - acc: 0.8500 - val_loss: 0.2779 - val_acc: 0.8740\n",
            "Epoch 18/30\n",
            "100/100 [==============================] - 18s 177ms/step - loss: 0.3429 - acc: 0.8475 - val_loss: 0.3131 - val_acc: 0.8690\n",
            "Epoch 19/30\n",
            "100/100 [==============================] - 18s 177ms/step - loss: 0.3388 - acc: 0.8550 - val_loss: 0.2938 - val_acc: 0.8630\n",
            "Epoch 20/30\n",
            "100/100 [==============================] - 18s 176ms/step - loss: 0.3468 - acc: 0.8450 - val_loss: 0.2730 - val_acc: 0.8820\n",
            "Epoch 21/30\n",
            "100/100 [==============================] - 19s 193ms/step - loss: 0.3408 - acc: 0.8555 - val_loss: 0.2687 - val_acc: 0.8820\n",
            "Epoch 22/30\n",
            "100/100 [==============================] - 18s 177ms/step - loss: 0.3440 - acc: 0.8445 - val_loss: 0.2923 - val_acc: 0.8700\n",
            "Epoch 23/30\n",
            "100/100 [==============================] - 19s 191ms/step - loss: 0.3284 - acc: 0.8510 - val_loss: 0.2677 - val_acc: 0.8850\n",
            "Epoch 24/30\n",
            "100/100 [==============================] - 18s 176ms/step - loss: 0.3277 - acc: 0.8600 - val_loss: 0.2689 - val_acc: 0.8850\n",
            "Epoch 25/30\n",
            "100/100 [==============================] - 19s 186ms/step - loss: 0.3386 - acc: 0.8485 - val_loss: 0.2753 - val_acc: 0.8810\n",
            "Epoch 26/30\n",
            "100/100 [==============================] - 18s 177ms/step - loss: 0.3276 - acc: 0.8545 - val_loss: 0.2711 - val_acc: 0.8870\n",
            "Epoch 27/30\n",
            "100/100 [==============================] - 18s 175ms/step - loss: 0.3220 - acc: 0.8630 - val_loss: 0.2739 - val_acc: 0.8810\n",
            "Epoch 28/30\n",
            "100/100 [==============================] - 18s 176ms/step - loss: 0.3293 - acc: 0.8590 - val_loss: 0.2929 - val_acc: 0.8720\n",
            "Epoch 29/30\n",
            "100/100 [==============================] - 18s 176ms/step - loss: 0.3227 - acc: 0.8580 - val_loss: 0.2948 - val_acc: 0.8680\n",
            "Epoch 30/30\n",
            "100/100 [==============================] - 19s 188ms/step - loss: 0.3136 - acc: 0.8635 - val_loss: 0.2674 - val_acc: 0.8880\n"
          ],
          "name": "stdout"
        }
      ]
    },
    {
      "metadata": {
        "id": "IvzItUyy-euo",
        "colab_type": "text"
      },
      "cell_type": "markdown",
      "source": [
        "## Problem 2\n",
        "\n",
        "Do fine-tuning with data augmentation."
      ]
    },
    {
      "metadata": {
        "id": "PCg1pQ2v_HSH",
        "colab_type": "code",
        "colab": {
          "base_uri": "https://localhost:8080/",
          "height": 269
        },
        "outputId": "76c2536d-fbb5-4196-ddd8-a263c5c9cbd9"
      },
      "cell_type": "code",
      "source": [
        "conv_base = VGG19(\n",
        "    weights='imagenet', \n",
        "    include_top=False, \n",
        "    input_shape=(150, 150, 3))\n",
        "\n",
        "conv_base.trainable = False\n",
        "\n",
        "model = models.Sequential()\n",
        "model.add(conv_base)\n",
        "model.add(layers.Flatten())\n",
        "model.add(layers.Dense(256, activation='relu'))\n",
        "#model.add(layers.Dropout(0.1))\n",
        "model.add(layers.Dense(1, activation='sigmoid'))\n",
        "\n",
        "model.summary()"
      ],
      "execution_count": 14,
      "outputs": [
        {
          "output_type": "stream",
          "text": [
            "_________________________________________________________________\n",
            "Layer (type)                 Output Shape              Param #   \n",
            "=================================================================\n",
            "vgg19 (Model)                (None, 4, 4, 512)         20024384  \n",
            "_________________________________________________________________\n",
            "flatten_5 (Flatten)          (None, 8192)              0         \n",
            "_________________________________________________________________\n",
            "dense_9 (Dense)              (None, 256)               2097408   \n",
            "_________________________________________________________________\n",
            "dense_10 (Dense)             (None, 1)                 257       \n",
            "=================================================================\n",
            "Total params: 22,122,049\n",
            "Trainable params: 2,097,665\n",
            "Non-trainable params: 20,024,384\n",
            "_________________________________________________________________\n"
          ],
          "name": "stdout"
        }
      ]
    },
    {
      "metadata": {
        "id": "UkWGoLZ5woif",
        "colab_type": "code",
        "colab": {
          "base_uri": "https://localhost:8080/",
          "height": 1058
        },
        "outputId": "19cf18de-9561-4ea8-c841-f77eaa9249d4"
      },
      "cell_type": "code",
      "source": [
        "# data augmentation\n",
        "\n",
        "train_datagen = ImageDataGenerator(\n",
        "    rescale=1./255, \n",
        "    rotation_range=40,\n",
        "    width_shift_range=0.2,\n",
        "    height_shift_range=0.2,\n",
        "    shear_range=0.2,\n",
        "    zoom_range=0.2,\n",
        "    horizontal_flip=True,\n",
        "    fill_mode='nearest'\n",
        ")\n",
        "\n",
        "train_generator = train_datagen.flow_from_directory(\n",
        "    train_dir,\n",
        "    target_size=(150, 150),\n",
        "    batch_size=20,\n",
        "    class_mode='binary')\n",
        "\n",
        "validation_datagen = ImageDataGenerator(rescale=1./255)\n",
        "\n",
        "validation_generator = validation_datagen.flow_from_directory(\n",
        "    validation_dir,\n",
        "    target_size=(150, 150),\n",
        "    batch_size=20,\n",
        "    class_mode='binary')\n",
        "\n",
        "# compile model\n",
        "\n",
        "model.compile(\n",
        "    loss='binary_crossentropy', \n",
        "    optimizer=optimizers.RMSprop(lr=2e-5), \n",
        "    metrics=['acc'])\n",
        "\n",
        "# train\n",
        "\n",
        "history = model.fit_generator(\n",
        "    train_generator,\n",
        "    steps_per_epoch=100,\n",
        "    epochs=30,\n",
        "    validation_data=validation_generator,\n",
        "    validation_steps=50\n",
        ")"
      ],
      "execution_count": 15,
      "outputs": [
        {
          "output_type": "stream",
          "text": [
            "Found 2000 images belonging to 2 classes.\n",
            "Found 1000 images belonging to 2 classes.\n",
            "Epoch 1/30\n",
            "100/100 [==============================] - 20s 197ms/step - loss: 0.6205 - acc: 0.6610 - val_loss: 0.4895 - val_acc: 0.8050\n",
            "Epoch 2/30\n",
            "100/100 [==============================] - 17s 174ms/step - loss: 0.5187 - acc: 0.7660 - val_loss: 0.4174 - val_acc: 0.8180\n",
            "Epoch 3/30\n",
            "100/100 [==============================] - 17s 175ms/step - loss: 0.4664 - acc: 0.7835 - val_loss: 0.3719 - val_acc: 0.8390\n",
            "Epoch 4/30\n",
            "100/100 [==============================] - 18s 176ms/step - loss: 0.4350 - acc: 0.8075 - val_loss: 0.3473 - val_acc: 0.8500\n",
            "Epoch 5/30\n",
            "100/100 [==============================] - 19s 190ms/step - loss: 0.4254 - acc: 0.8075 - val_loss: 0.3411 - val_acc: 0.8540\n",
            "Epoch 6/30\n",
            "100/100 [==============================] - 18s 176ms/step - loss: 0.4054 - acc: 0.8270 - val_loss: 0.3175 - val_acc: 0.8630\n",
            "Epoch 7/30\n",
            "100/100 [==============================] - 17s 175ms/step - loss: 0.3935 - acc: 0.8250 - val_loss: 0.3134 - val_acc: 0.8620\n",
            "Epoch 8/30\n",
            "100/100 [==============================] - 18s 175ms/step - loss: 0.3822 - acc: 0.8155 - val_loss: 0.3061 - val_acc: 0.8750\n",
            "Epoch 9/30\n",
            "100/100 [==============================] - 18s 178ms/step - loss: 0.3863 - acc: 0.8215 - val_loss: 0.2962 - val_acc: 0.8740\n",
            "Epoch 10/30\n",
            "100/100 [==============================] - 18s 184ms/step - loss: 0.3787 - acc: 0.8280 - val_loss: 0.2930 - val_acc: 0.8720\n",
            "Epoch 11/30\n",
            "100/100 [==============================] - 18s 176ms/step - loss: 0.3622 - acc: 0.8460 - val_loss: 0.2885 - val_acc: 0.8760\n",
            "Epoch 12/30\n",
            "100/100 [==============================] - 18s 183ms/step - loss: 0.3545 - acc: 0.8385 - val_loss: 0.2835 - val_acc: 0.8800\n",
            "Epoch 13/30\n",
            "100/100 [==============================] - 18s 175ms/step - loss: 0.3429 - acc: 0.8565 - val_loss: 0.2802 - val_acc: 0.8800\n",
            "Epoch 14/30\n",
            "100/100 [==============================] - 19s 192ms/step - loss: 0.3443 - acc: 0.8485 - val_loss: 0.2913 - val_acc: 0.8720\n",
            "Epoch 15/30\n",
            "100/100 [==============================] - 18s 180ms/step - loss: 0.3561 - acc: 0.8435 - val_loss: 0.2780 - val_acc: 0.8820\n",
            "Epoch 16/30\n",
            "100/100 [==============================] - 18s 176ms/step - loss: 0.3444 - acc: 0.8435 - val_loss: 0.2861 - val_acc: 0.8750\n",
            "Epoch 17/30\n",
            "100/100 [==============================] - 18s 175ms/step - loss: 0.3348 - acc: 0.8565 - val_loss: 0.3023 - val_acc: 0.8730\n",
            "Epoch 18/30\n",
            "100/100 [==============================] - 18s 179ms/step - loss: 0.3452 - acc: 0.8485 - val_loss: 0.2911 - val_acc: 0.8710\n",
            "Epoch 19/30\n",
            "100/100 [==============================] - 18s 183ms/step - loss: 0.3228 - acc: 0.8590 - val_loss: 0.3526 - val_acc: 0.8430\n",
            "Epoch 20/30\n",
            "100/100 [==============================] - 18s 176ms/step - loss: 0.3563 - acc: 0.8415 - val_loss: 0.3115 - val_acc: 0.8690\n",
            "Epoch 21/30\n",
            "100/100 [==============================] - 18s 176ms/step - loss: 0.3331 - acc: 0.8535 - val_loss: 0.2643 - val_acc: 0.8860\n",
            "Epoch 22/30\n",
            "100/100 [==============================] - 18s 176ms/step - loss: 0.3251 - acc: 0.8655 - val_loss: 0.2642 - val_acc: 0.8870\n",
            "Epoch 23/30\n",
            "100/100 [==============================] - 19s 188ms/step - loss: 0.3320 - acc: 0.8570 - val_loss: 0.2712 - val_acc: 0.8830\n",
            "Epoch 24/30\n",
            "100/100 [==============================] - 18s 175ms/step - loss: 0.3324 - acc: 0.8475 - val_loss: 0.2730 - val_acc: 0.8850\n",
            "Epoch 25/30\n",
            "100/100 [==============================] - 18s 175ms/step - loss: 0.3123 - acc: 0.8705 - val_loss: 0.2799 - val_acc: 0.8810\n",
            "Epoch 26/30\n",
            "100/100 [==============================] - 18s 176ms/step - loss: 0.3297 - acc: 0.8595 - val_loss: 0.2874 - val_acc: 0.8830\n",
            "Epoch 27/30\n",
            "100/100 [==============================] - 18s 178ms/step - loss: 0.3179 - acc: 0.8570 - val_loss: 0.2598 - val_acc: 0.8830\n",
            "Epoch 28/30\n",
            "100/100 [==============================] - 18s 184ms/step - loss: 0.3169 - acc: 0.8590 - val_loss: 0.2622 - val_acc: 0.8870\n",
            "Epoch 29/30\n",
            "100/100 [==============================] - 18s 183ms/step - loss: 0.3360 - acc: 0.8545 - val_loss: 0.2686 - val_acc: 0.8860\n",
            "Epoch 30/30\n",
            "100/100 [==============================] - 18s 176ms/step - loss: 0.3248 - acc: 0.8575 - val_loss: 0.2587 - val_acc: 0.8860\n"
          ],
          "name": "stdout"
        }
      ]
    },
    {
      "metadata": {
        "id": "Rbx_s_pmy1aU",
        "colab_type": "text"
      },
      "cell_type": "markdown",
      "source": [
        "### Fine-tuning"
      ]
    },
    {
      "metadata": {
        "id": "zbrn_lPkyZ9x",
        "colab_type": "code",
        "colab": {
          "base_uri": "https://localhost:8080/",
          "height": 3377
        },
        "outputId": "f4d52830-b681-46f6-c396-4c247e84bfdc"
      },
      "cell_type": "code",
      "source": [
        "conv_base.trainable = True\n",
        "\n",
        "set_trainable = False\n",
        "for layer in conv_base.layers:\n",
        "  if layer.name == 'block5_conv1':\n",
        "    set_trainable = True\n",
        "  if set_trainable:\n",
        "    layer.trainable = True\n",
        "  else:\n",
        "    layer.trainable = False\n",
        "    \n",
        "    \n",
        "# compile model\n",
        "\n",
        "model.compile(\n",
        "    loss='binary_crossentropy',\n",
        "    #\n",
        "    # choose a smaller learning rate\n",
        "    #\n",
        "    optimizer=optimizers.RMSprop(lr=1e-5), \n",
        "    metrics=['acc'])\n",
        "\n",
        "# train\n",
        "\n",
        "history = model.fit_generator(\n",
        "    train_generator,\n",
        "    steps_per_epoch=100,\n",
        "    epochs=100,\n",
        "    validation_data=validation_generator,\n",
        "    validation_steps=50)"
      ],
      "execution_count": 17,
      "outputs": [
        {
          "output_type": "stream",
          "text": [
            "Epoch 1/100\n",
            "100/100 [==============================] - 21s 206ms/step - loss: 0.3204 - acc: 0.8605 - val_loss: 0.2909 - val_acc: 0.8910\n",
            "Epoch 2/100\n",
            "100/100 [==============================] - 19s 190ms/step - loss: 0.2717 - acc: 0.8800 - val_loss: 0.2370 - val_acc: 0.8940\n",
            "Epoch 3/100\n",
            "100/100 [==============================] - 19s 188ms/step - loss: 0.2491 - acc: 0.8895 - val_loss: 0.1876 - val_acc: 0.9260\n",
            "Epoch 4/100\n",
            "100/100 [==============================] - 18s 184ms/step - loss: 0.2314 - acc: 0.9095 - val_loss: 0.2213 - val_acc: 0.9150\n",
            "Epoch 5/100\n",
            "100/100 [==============================] - 18s 183ms/step - loss: 0.2142 - acc: 0.9065 - val_loss: 0.2447 - val_acc: 0.9140\n",
            "Epoch 6/100\n",
            "100/100 [==============================] - 18s 183ms/step - loss: 0.2092 - acc: 0.9170 - val_loss: 0.1766 - val_acc: 0.9390\n",
            "Epoch 7/100\n",
            "100/100 [==============================] - 19s 194ms/step - loss: 0.2038 - acc: 0.9175 - val_loss: 0.2121 - val_acc: 0.9160\n",
            "Epoch 8/100\n",
            "100/100 [==============================] - 18s 184ms/step - loss: 0.1699 - acc: 0.9320 - val_loss: 0.1795 - val_acc: 0.9320\n",
            "Epoch 9/100\n",
            "100/100 [==============================] - 18s 183ms/step - loss: 0.1606 - acc: 0.9400 - val_loss: 0.2196 - val_acc: 0.9300\n",
            "Epoch 10/100\n",
            "100/100 [==============================] - 18s 183ms/step - loss: 0.1575 - acc: 0.9370 - val_loss: 0.1682 - val_acc: 0.9410\n",
            "Epoch 11/100\n",
            "100/100 [==============================] - 20s 200ms/step - loss: 0.1427 - acc: 0.9470 - val_loss: 0.2232 - val_acc: 0.9250\n",
            "Epoch 12/100\n",
            "100/100 [==============================] - 18s 185ms/step - loss: 0.1434 - acc: 0.9435 - val_loss: 0.2860 - val_acc: 0.9120\n",
            "Epoch 13/100\n",
            "100/100 [==============================] - 18s 183ms/step - loss: 0.1506 - acc: 0.9395 - val_loss: 0.2094 - val_acc: 0.9280\n",
            "Epoch 14/100\n",
            "100/100 [==============================] - 19s 188ms/step - loss: 0.1368 - acc: 0.9480 - val_loss: 0.4245 - val_acc: 0.8770\n",
            "Epoch 15/100\n",
            "100/100 [==============================] - 20s 198ms/step - loss: 0.1343 - acc: 0.9520 - val_loss: 0.1512 - val_acc: 0.9480\n",
            "Epoch 16/100\n",
            "100/100 [==============================] - 18s 184ms/step - loss: 0.1331 - acc: 0.9480 - val_loss: 0.3141 - val_acc: 0.9040\n",
            "Epoch 17/100\n",
            "100/100 [==============================] - 18s 183ms/step - loss: 0.0987 - acc: 0.9595 - val_loss: 0.1835 - val_acc: 0.9320\n",
            "Epoch 18/100\n",
            "100/100 [==============================] - 18s 183ms/step - loss: 0.1108 - acc: 0.9530 - val_loss: 0.2464 - val_acc: 0.9260\n",
            "Epoch 19/100\n",
            "100/100 [==============================] - 18s 183ms/step - loss: 0.0950 - acc: 0.9610 - val_loss: 0.2205 - val_acc: 0.9330\n",
            "Epoch 20/100\n",
            "100/100 [==============================] - 19s 193ms/step - loss: 0.1036 - acc: 0.9555 - val_loss: 0.1725 - val_acc: 0.9410\n",
            "Epoch 21/100\n",
            "100/100 [==============================] - 18s 183ms/step - loss: 0.1011 - acc: 0.9615 - val_loss: 0.2122 - val_acc: 0.9370\n",
            "Epoch 22/100\n",
            "100/100 [==============================] - 18s 183ms/step - loss: 0.0882 - acc: 0.9645 - val_loss: 0.1831 - val_acc: 0.9450\n",
            "Epoch 23/100\n",
            "100/100 [==============================] - 18s 183ms/step - loss: 0.0850 - acc: 0.9645 - val_loss: 0.2866 - val_acc: 0.9200\n",
            "Epoch 24/100\n",
            "100/100 [==============================] - 20s 196ms/step - loss: 0.0857 - acc: 0.9695 - val_loss: 0.2000 - val_acc: 0.9430\n",
            "Epoch 25/100\n",
            "100/100 [==============================] - 18s 183ms/step - loss: 0.0747 - acc: 0.9710 - val_loss: 0.1812 - val_acc: 0.9490\n",
            "Epoch 26/100\n",
            "100/100 [==============================] - 18s 184ms/step - loss: 0.0756 - acc: 0.9670 - val_loss: 0.2972 - val_acc: 0.9140\n",
            "Epoch 27/100\n",
            "100/100 [==============================] - 18s 184ms/step - loss: 0.0740 - acc: 0.9705 - val_loss: 0.1893 - val_acc: 0.9540\n",
            "Epoch 28/100\n",
            "100/100 [==============================] - 20s 201ms/step - loss: 0.0713 - acc: 0.9755 - val_loss: 0.3126 - val_acc: 0.9250\n",
            "Epoch 29/100\n",
            "100/100 [==============================] - 19s 187ms/step - loss: 0.0750 - acc: 0.9795 - val_loss: 0.1963 - val_acc: 0.9510\n",
            "Epoch 30/100\n",
            "100/100 [==============================] - 19s 187ms/step - loss: 0.0685 - acc: 0.9775 - val_loss: 0.2923 - val_acc: 0.9280\n",
            "Epoch 31/100\n",
            "100/100 [==============================] - 20s 201ms/step - loss: 0.0638 - acc: 0.9780 - val_loss: 0.2001 - val_acc: 0.9500\n",
            "Epoch 32/100\n",
            "100/100 [==============================] - 20s 199ms/step - loss: 0.0674 - acc: 0.9735 - val_loss: 0.2257 - val_acc: 0.9460\n",
            "Epoch 33/100\n",
            "100/100 [==============================] - 19s 191ms/step - loss: 0.0596 - acc: 0.9775 - val_loss: 0.1666 - val_acc: 0.9600\n",
            "Epoch 34/100\n",
            "100/100 [==============================] - 19s 194ms/step - loss: 0.0536 - acc: 0.9770 - val_loss: 0.5274 - val_acc: 0.8900\n",
            "Epoch 35/100\n",
            "100/100 [==============================] - 19s 191ms/step - loss: 0.0621 - acc: 0.9760 - val_loss: 0.2164 - val_acc: 0.9510\n",
            "Epoch 36/100\n",
            "100/100 [==============================] - 19s 192ms/step - loss: 0.0637 - acc: 0.9745 - val_loss: 0.2792 - val_acc: 0.9330\n",
            "Epoch 37/100\n",
            "100/100 [==============================] - 20s 196ms/step - loss: 0.0597 - acc: 0.9800 - val_loss: 0.1976 - val_acc: 0.9530\n",
            "Epoch 38/100\n",
            "100/100 [==============================] - 19s 187ms/step - loss: 0.0613 - acc: 0.9770 - val_loss: 0.2099 - val_acc: 0.9460\n",
            "Epoch 39/100\n",
            "100/100 [==============================] - 19s 189ms/step - loss: 0.0565 - acc: 0.9825 - val_loss: 0.2027 - val_acc: 0.9520\n",
            "Epoch 40/100\n",
            "100/100 [==============================] - 19s 188ms/step - loss: 0.0528 - acc: 0.9810 - val_loss: 0.2288 - val_acc: 0.9400\n",
            "Epoch 41/100\n",
            "100/100 [==============================] - 20s 197ms/step - loss: 0.0500 - acc: 0.9810 - val_loss: 0.2581 - val_acc: 0.9370\n",
            "Epoch 42/100\n",
            "100/100 [==============================] - 19s 186ms/step - loss: 0.0514 - acc: 0.9795 - val_loss: 0.2776 - val_acc: 0.9290\n",
            "Epoch 43/100\n",
            "100/100 [==============================] - 19s 187ms/step - loss: 0.0610 - acc: 0.9805 - val_loss: 0.3250 - val_acc: 0.9210\n",
            "Epoch 44/100\n",
            "100/100 [==============================] - 19s 193ms/step - loss: 0.0448 - acc: 0.9865 - val_loss: 0.2144 - val_acc: 0.9570\n",
            "Epoch 45/100\n",
            "100/100 [==============================] - 20s 198ms/step - loss: 0.0375 - acc: 0.9855 - val_loss: 0.2142 - val_acc: 0.9470\n",
            "Epoch 46/100\n",
            "100/100 [==============================] - 19s 190ms/step - loss: 0.0493 - acc: 0.9845 - val_loss: 0.4630 - val_acc: 0.9140\n",
            "Epoch 47/100\n",
            "100/100 [==============================] - 20s 199ms/step - loss: 0.0398 - acc: 0.9855 - val_loss: 0.2967 - val_acc: 0.9300\n",
            "Epoch 48/100\n",
            "100/100 [==============================] - 19s 189ms/step - loss: 0.0431 - acc: 0.9845 - val_loss: 0.2206 - val_acc: 0.9420\n",
            "Epoch 49/100\n",
            "100/100 [==============================] - 20s 196ms/step - loss: 0.0427 - acc: 0.9830 - val_loss: 0.3059 - val_acc: 0.9390\n",
            "Epoch 50/100\n",
            "100/100 [==============================] - 19s 187ms/step - loss: 0.0400 - acc: 0.9845 - val_loss: 0.2837 - val_acc: 0.9420\n",
            "Epoch 51/100\n",
            "100/100 [==============================] - 18s 185ms/step - loss: 0.0354 - acc: 0.9880 - val_loss: 0.2571 - val_acc: 0.9470\n",
            "Epoch 52/100\n",
            "100/100 [==============================] - 18s 185ms/step - loss: 0.0410 - acc: 0.9835 - val_loss: 0.2430 - val_acc: 0.9500\n",
            "Epoch 53/100\n",
            "100/100 [==============================] - 19s 189ms/step - loss: 0.0319 - acc: 0.9875 - val_loss: 0.2319 - val_acc: 0.9540\n",
            "Epoch 54/100\n",
            "100/100 [==============================] - 19s 191ms/step - loss: 0.0369 - acc: 0.9860 - val_loss: 0.2396 - val_acc: 0.9510\n",
            "Epoch 55/100\n",
            "100/100 [==============================] - 19s 185ms/step - loss: 0.0319 - acc: 0.9905 - val_loss: 0.2358 - val_acc: 0.9560\n",
            "Epoch 56/100\n",
            "100/100 [==============================] - 18s 184ms/step - loss: 0.0501 - acc: 0.9840 - val_loss: 0.2692 - val_acc: 0.9470\n",
            "Epoch 57/100\n",
            "100/100 [==============================] - 19s 186ms/step - loss: 0.0246 - acc: 0.9930 - val_loss: 0.5228 - val_acc: 0.8990\n",
            "Epoch 58/100\n",
            "100/100 [==============================] - 20s 198ms/step - loss: 0.0344 - acc: 0.9860 - val_loss: 0.2844 - val_acc: 0.9510\n",
            "Epoch 59/100\n",
            "100/100 [==============================] - 18s 184ms/step - loss: 0.0347 - acc: 0.9895 - val_loss: 0.2989 - val_acc: 0.9420\n",
            "Epoch 60/100\n",
            "100/100 [==============================] - 19s 192ms/step - loss: 0.0253 - acc: 0.9895 - val_loss: 0.3666 - val_acc: 0.9330\n",
            "Epoch 61/100\n",
            "100/100 [==============================] - 18s 183ms/step - loss: 0.0315 - acc: 0.9865 - val_loss: 0.4189 - val_acc: 0.9160\n",
            "Epoch 62/100\n",
            "100/100 [==============================] - 20s 197ms/step - loss: 0.0296 - acc: 0.9890 - val_loss: 0.3086 - val_acc: 0.9410\n",
            "Epoch 63/100\n",
            "100/100 [==============================] - 19s 186ms/step - loss: 0.0273 - acc: 0.9920 - val_loss: 0.3434 - val_acc: 0.9310\n",
            "Epoch 64/100\n",
            "100/100 [==============================] - 19s 193ms/step - loss: 0.0250 - acc: 0.9910 - val_loss: 0.2620 - val_acc: 0.9530\n",
            "Epoch 65/100\n",
            "100/100 [==============================] - 18s 184ms/step - loss: 0.0261 - acc: 0.9915 - val_loss: 0.2074 - val_acc: 0.9600\n",
            "Epoch 66/100\n",
            "100/100 [==============================] - 19s 193ms/step - loss: 0.0403 - acc: 0.9910 - val_loss: 0.2407 - val_acc: 0.9550\n",
            "Epoch 67/100\n",
            "100/100 [==============================] - 19s 186ms/step - loss: 0.0281 - acc: 0.9915 - val_loss: 0.2713 - val_acc: 0.9500\n",
            "Epoch 68/100\n",
            "100/100 [==============================] - 18s 184ms/step - loss: 0.0297 - acc: 0.9875 - val_loss: 0.2574 - val_acc: 0.9490\n",
            "Epoch 69/100\n",
            "100/100 [==============================] - 18s 184ms/step - loss: 0.0336 - acc: 0.9920 - val_loss: 1.1481 - val_acc: 0.8490\n",
            "Epoch 70/100\n",
            "100/100 [==============================] - 18s 184ms/step - loss: 0.0200 - acc: 0.9905 - val_loss: 0.3296 - val_acc: 0.9330\n",
            "Epoch 71/100\n",
            "100/100 [==============================] - 19s 193ms/step - loss: 0.0221 - acc: 0.9935 - val_loss: 0.3782 - val_acc: 0.9320\n",
            "Epoch 72/100\n",
            "100/100 [==============================] - 18s 183ms/step - loss: 0.0238 - acc: 0.9930 - val_loss: 0.3174 - val_acc: 0.9400\n",
            "Epoch 73/100\n",
            "100/100 [==============================] - 18s 184ms/step - loss: 0.0245 - acc: 0.9905 - val_loss: 0.2841 - val_acc: 0.9460\n",
            "Epoch 74/100\n",
            "100/100 [==============================] - 18s 185ms/step - loss: 0.0241 - acc: 0.9905 - val_loss: 0.2963 - val_acc: 0.9490\n",
            "Epoch 75/100\n",
            "100/100 [==============================] - 20s 197ms/step - loss: 0.0280 - acc: 0.9920 - val_loss: 0.3710 - val_acc: 0.9290\n",
            "Epoch 76/100\n",
            "100/100 [==============================] - 19s 190ms/step - loss: 0.0269 - acc: 0.9910 - val_loss: 0.2405 - val_acc: 0.9580\n",
            "Epoch 77/100\n",
            "100/100 [==============================] - 18s 184ms/step - loss: 0.0351 - acc: 0.9870 - val_loss: 0.2712 - val_acc: 0.9550\n",
            "Epoch 78/100\n",
            "100/100 [==============================] - 18s 184ms/step - loss: 0.0318 - acc: 0.9890 - val_loss: 0.2550 - val_acc: 0.9560\n",
            "Epoch 79/100\n",
            "100/100 [==============================] - 19s 194ms/step - loss: 0.0138 - acc: 0.9960 - val_loss: 0.2585 - val_acc: 0.9520\n",
            "Epoch 80/100\n",
            "100/100 [==============================] - 20s 199ms/step - loss: 0.0265 - acc: 0.9900 - val_loss: 0.3939 - val_acc: 0.9320\n",
            "Epoch 81/100\n",
            "100/100 [==============================] - 18s 184ms/step - loss: 0.0275 - acc: 0.9890 - val_loss: 0.4673 - val_acc: 0.9230\n",
            "Epoch 82/100\n",
            "100/100 [==============================] - 18s 184ms/step - loss: 0.0198 - acc: 0.9915 - val_loss: 0.5097 - val_acc: 0.9220\n",
            "Epoch 83/100\n",
            "100/100 [==============================] - 19s 189ms/step - loss: 0.0320 - acc: 0.9880 - val_loss: 0.2317 - val_acc: 0.9560\n",
            "Epoch 84/100\n",
            "100/100 [==============================] - 19s 188ms/step - loss: 0.0109 - acc: 0.9960 - val_loss: 0.3966 - val_acc: 0.9300\n",
            "Epoch 85/100\n",
            "100/100 [==============================] - 18s 184ms/step - loss: 0.0214 - acc: 0.9925 - val_loss: 0.2506 - val_acc: 0.9580\n",
            "Epoch 86/100\n",
            "100/100 [==============================] - 18s 184ms/step - loss: 0.0191 - acc: 0.9945 - val_loss: 0.3560 - val_acc: 0.9390\n",
            "Epoch 87/100\n",
            "100/100 [==============================] - 18s 184ms/step - loss: 0.0284 - acc: 0.9900 - val_loss: 0.3144 - val_acc: 0.9390\n",
            "Epoch 88/100\n",
            "100/100 [==============================] - 20s 196ms/step - loss: 0.0231 - acc: 0.9900 - val_loss: 0.2934 - val_acc: 0.9460\n",
            "Epoch 89/100\n",
            "100/100 [==============================] - 18s 184ms/step - loss: 0.0255 - acc: 0.9915 - val_loss: 0.3242 - val_acc: 0.9470\n",
            "Epoch 90/100\n",
            "100/100 [==============================] - 18s 185ms/step - loss: 0.0219 - acc: 0.9930 - val_loss: 0.4271 - val_acc: 0.9320\n",
            "Epoch 91/100\n",
            "100/100 [==============================] - 18s 184ms/step - loss: 0.0175 - acc: 0.9935 - val_loss: 0.6658 - val_acc: 0.8960\n",
            "Epoch 92/100\n",
            "100/100 [==============================] - 20s 199ms/step - loss: 0.0284 - acc: 0.9915 - val_loss: 0.3712 - val_acc: 0.9330\n",
            "Epoch 93/100\n",
            "100/100 [==============================] - 19s 185ms/step - loss: 0.0168 - acc: 0.9945 - val_loss: 0.3126 - val_acc: 0.9440\n",
            "Epoch 94/100\n",
            "100/100 [==============================] - 18s 184ms/step - loss: 0.0184 - acc: 0.9940 - val_loss: 0.4801 - val_acc: 0.9280\n",
            "Epoch 95/100\n",
            "100/100 [==============================] - 18s 183ms/step - loss: 0.0296 - acc: 0.9905 - val_loss: 0.4139 - val_acc: 0.9280\n",
            "Epoch 96/100\n",
            "100/100 [==============================] - 19s 191ms/step - loss: 0.0258 - acc: 0.9935 - val_loss: 0.3181 - val_acc: 0.9510\n",
            "Epoch 97/100\n",
            "100/100 [==============================] - 20s 195ms/step - loss: 0.0287 - acc: 0.9910 - val_loss: 0.3383 - val_acc: 0.9380\n",
            "Epoch 98/100\n",
            "100/100 [==============================] - 18s 183ms/step - loss: 0.0151 - acc: 0.9945 - val_loss: 0.3946 - val_acc: 0.9310\n",
            "Epoch 99/100\n",
            "100/100 [==============================] - 18s 182ms/step - loss: 0.0234 - acc: 0.9925 - val_loss: 0.4701 - val_acc: 0.9290\n",
            "Epoch 100/100\n",
            "100/100 [==============================] - 18s 183ms/step - loss: 0.0164 - acc: 0.9945 - val_loss: 0.4184 - val_acc: 0.9260\n"
          ],
          "name": "stdout"
        }
      ]
    },
    {
      "metadata": {
        "id": "h_Jy6PGq-ka6",
        "colab_type": "text"
      },
      "cell_type": "markdown",
      "source": [
        "## Problem 3\n",
        "\n",
        "Visualize heatmaps of class activation for the the model obtained in Problem 2."
      ]
    },
    {
      "metadata": {
        "id": "9wWbXWW8_Hj-",
        "colab_type": "code",
        "colab": {}
      },
      "cell_type": "code",
      "source": [
        "from keras.preprocessing import image\n",
        "from keras.applications.vgg16 import preprocess_input, decode_predictions"
      ],
      "execution_count": 0,
      "outputs": []
    },
    {
      "metadata": {
        "id": "Lw_PPBA4-oRZ",
        "colab_type": "text"
      },
      "cell_type": "markdown",
      "source": [
        "## Problem 4\n",
        "\n",
        "Build an activation model that takes as input an image and produces as output the activation of the last conv layer of the model obtained in Problem 2. Using this activation model obtain the corresponding activations for the validation images. Apply t-SNE visualization to these activations to see how well the convnet separates cats from dogs."
      ]
    },
    {
      "metadata": {
        "id": "DdiWO2Nz_H1N",
        "colab_type": "code",
        "colab": {}
      },
      "cell_type": "code",
      "source": [
        ""
      ],
      "execution_count": 0,
      "outputs": []
    }
  ]
}