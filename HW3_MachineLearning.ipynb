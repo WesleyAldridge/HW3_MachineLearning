{
  "nbformat": 4,
  "nbformat_minor": 0,
  "metadata": {
    "colab": {
      "name": "HW3_MachineLearning",
      "version": "0.3.2",
      "provenance": [],
      "collapsed_sections": [],
      "include_colab_link": true
    },
    "kernelspec": {
      "name": "python3",
      "display_name": "Python 3"
    },
    "accelerator": "GPU"
  },
  "cells": [
    {
      "cell_type": "markdown",
      "metadata": {
        "id": "view-in-github",
        "colab_type": "text"
      },
      "source": [
        "<a href=\"https://colab.research.google.com/github/WesleyAldridge/HW3_MachineLearning/blob/master/HW3_MachineLearning.ipynb\" target=\"_parent\"><img src=\"https://colab.research.google.com/assets/colab-badge.svg\" alt=\"Open In Colab\"/></a>"
      ]
    },
    {
      "metadata": {
        "id": "rt44vyY1xW9b",
        "colab_type": "text"
      },
      "cell_type": "markdown",
      "source": [
        "# Problem 1\n",
        "## Feature extraction with data augmentation."
      ]
    },
    {
      "metadata": {
        "id": "Pfuun9431eEs",
        "colab_type": "text"
      },
      "cell_type": "markdown",
      "source": [
        "###Instructions from professor:\n",
        "\n",
        "\"The goal of this homework is to learn how to leverage pretrained convnets and to use some visualization techniques. You will work with the data set cats vs dogs and use the pretrained convnet VGG19.\n",
        "\n",
        "Experiment with different classifiers, trying to maximize the validation accuracy. You only need to show one classifier.\""
      ]
    },
    {
      "metadata": {
        "id": "kax-TVijJpsG",
        "colab_type": "text"
      },
      "cell_type": "markdown",
      "source": [
        "### Imports"
      ]
    },
    {
      "metadata": {
        "id": "K1vTNUeRJW3x",
        "colab_type": "code",
        "colab": {}
      },
      "cell_type": "code",
      "source": [
        "from keras import layers, models, optimizers\n",
        "from keras.applications import VGG19\n",
        "from keras.preprocessing import image\n",
        "from keras.preprocessing.image import ImageDataGenerator\n",
        "\n",
        "import matplotlib.pyplot as plt\n",
        "\n",
        "import numpy as np\n",
        "\n",
        "import os\n",
        "\n",
        "import zipfile"
      ],
      "execution_count": 0,
      "outputs": []
    },
    {
      "metadata": {
        "id": "mSXztdbHMtjW",
        "colab_type": "text"
      },
      "cell_type": "markdown",
      "source": [
        "### Getting the cats_and_dogs data"
      ]
    },
    {
      "metadata": {
        "id": "5wonr7Qs-A1L",
        "colab_type": "code",
        "outputId": "b707c573-8752-4e79-fc27-249f3b3cfdaa",
        "colab": {
          "base_uri": "https://localhost:8080/",
          "height": 202
        }
      },
      "cell_type": "code",
      "source": [
        "!wget --no-check-certificate \\\n",
        "    https://storage.googleapis.com/mledu-datasets/cats_and_dogs_filtered.zip \\\n",
        "    -O /tmp/cats_and_dogs_filtered.zip\n",
        "    \n",
        "local_zip = '/tmp/cats_and_dogs_filtered.zip'\n",
        "zip_ref = zipfile.ZipFile(local_zip, 'r')\n",
        "zip_ref.extractall('/tmp')\n",
        "zip_ref.close()\n",
        "\n",
        "base_dir = '/tmp/cats_and_dogs_filtered'\n",
        "train_dir = os.path.join(base_dir, 'train')\n",
        "validation_dir = os.path.join(base_dir, 'validation')"
      ],
      "execution_count": 20,
      "outputs": [
        {
          "output_type": "stream",
          "text": [
            "--2019-04-18 02:17:26--  https://storage.googleapis.com/mledu-datasets/cats_and_dogs_filtered.zip\n",
            "Resolving storage.googleapis.com (storage.googleapis.com)... 74.125.197.128, 2607:f8b0:400e:c07::80\n",
            "Connecting to storage.googleapis.com (storage.googleapis.com)|74.125.197.128|:443... connected.\n",
            "HTTP request sent, awaiting response... 200 OK\n",
            "Length: 68606236 (65M) [application/zip]\n",
            "Saving to: ‘/tmp/cats_and_dogs_filtered.zip’\n",
            "\n",
            "/tmp/cats_and_dogs_ 100%[===================>]  65.43M   103MB/s    in 0.6s    \n",
            "\n",
            "2019-04-18 02:17:27 (103 MB/s) - ‘/tmp/cats_and_dogs_filtered.zip’ saved [68606236/68606236]\n",
            "\n"
          ],
          "name": "stdout"
        }
      ]
    },
    {
      "metadata": {
        "id": "2A7DGg7MKeD8",
        "colab_type": "text"
      },
      "cell_type": "markdown",
      "source": [
        "### Creating model with VGG19 as convolutional base"
      ]
    },
    {
      "metadata": {
        "id": "-hyy-5Ry_G5_",
        "colab_type": "code",
        "colab": {}
      },
      "cell_type": "code",
      "source": [
        "conv_base = VGG19(\n",
        "    weights='imagenet', \n",
        "    include_top=False, \n",
        "    input_shape=(150, 150, 3))\n",
        "\n",
        "conv_base.trainable = False"
      ],
      "execution_count": 0,
      "outputs": []
    },
    {
      "metadata": {
        "id": "AMwjxFpmsQvZ",
        "colab_type": "code",
        "outputId": "c8e7c7a5-a869-46ac-fdcb-5713c1912e62",
        "colab": {
          "base_uri": "https://localhost:8080/",
          "height": 269
        }
      },
      "cell_type": "code",
      "source": [
        "model = models.Sequential()\n",
        "model.add(conv_base)\n",
        "model.add(layers.Flatten())\n",
        "model.add(layers.Dense(256, activation='relu'))\n",
        "# no dropout\n",
        "model.add(layers.Dense(1, activation='sigmoid'))\n",
        "\n",
        "model.summary()"
      ],
      "execution_count": 22,
      "outputs": [
        {
          "output_type": "stream",
          "text": [
            "_________________________________________________________________\n",
            "Layer (type)                 Output Shape              Param #   \n",
            "=================================================================\n",
            "vgg19 (Model)                (None, 4, 4, 512)         20024384  \n",
            "_________________________________________________________________\n",
            "flatten_3 (Flatten)          (None, 8192)              0         \n",
            "_________________________________________________________________\n",
            "dense_5 (Dense)              (None, 256)               2097408   \n",
            "_________________________________________________________________\n",
            "dense_6 (Dense)              (None, 1)                 257       \n",
            "=================================================================\n",
            "Total params: 22,122,049\n",
            "Trainable params: 2,097,665\n",
            "Non-trainable params: 20,024,384\n",
            "_________________________________________________________________\n"
          ],
          "name": "stdout"
        }
      ]
    },
    {
      "metadata": {
        "id": "d68ZQUYMJT_l",
        "colab_type": "text"
      },
      "cell_type": "markdown",
      "source": [
        "### Data augmentation"
      ]
    },
    {
      "metadata": {
        "id": "tS5-2g4ysYlA",
        "colab_type": "code",
        "outputId": "06b195e0-e9e5-4c89-e8b6-ea599f36a0df",
        "colab": {
          "base_uri": "https://localhost:8080/",
          "height": 1058
        }
      },
      "cell_type": "code",
      "source": [
        "train_datagen = ImageDataGenerator(\n",
        "    rescale=1./255, \n",
        "    rotation_range=40,\n",
        "    width_shift_range=0.2,\n",
        "    height_shift_range=0.2,\n",
        "    shear_range=0.2,\n",
        "    zoom_range=0.2,\n",
        "    horizontal_flip=True,\n",
        "    fill_mode='nearest'\n",
        ")\n",
        "\n",
        "train_generator = train_datagen.flow_from_directory(\n",
        "    train_dir,\n",
        "    target_size=(150, 150),\n",
        "    batch_size=20,\n",
        "    class_mode='binary')\n",
        "\n",
        "validation_datagen = ImageDataGenerator(rescale=1./255)\n",
        "\n",
        "validation_generator = validation_datagen.flow_from_directory(\n",
        "    validation_dir,\n",
        "    target_size=(150, 150),\n",
        "    batch_size=20,\n",
        "    class_mode='binary')\n",
        "\n",
        "# compile model\n",
        "\n",
        "model.compile(\n",
        "    loss='binary_crossentropy', \n",
        "    optimizer=optimizers.RMSprop(lr=2e-5), \n",
        "    metrics=['acc'])\n",
        "\n",
        "# train\n",
        "\n",
        "history = model.fit_generator(\n",
        "    train_generator,\n",
        "    steps_per_epoch=100,\n",
        "    epochs=30,\n",
        "    validation_data=validation_generator,\n",
        "    validation_steps=50\n",
        ")"
      ],
      "execution_count": 23,
      "outputs": [
        {
          "output_type": "stream",
          "text": [
            "Found 2000 images belonging to 2 classes.\n",
            "Found 1000 images belonging to 2 classes.\n",
            "Epoch 1/30\n",
            "100/100 [==============================] - 20s 198ms/step - loss: 0.6126 - acc: 0.6730 - val_loss: 0.5074 - val_acc: 0.7620\n",
            "Epoch 2/30\n",
            "100/100 [==============================] - 20s 197ms/step - loss: 0.5221 - acc: 0.7465 - val_loss: 0.4351 - val_acc: 0.8020\n",
            "Epoch 3/30\n",
            "100/100 [==============================] - 19s 193ms/step - loss: 0.4659 - acc: 0.7900 - val_loss: 0.3946 - val_acc: 0.8160\n",
            "Epoch 4/30\n",
            "100/100 [==============================] - 18s 181ms/step - loss: 0.4444 - acc: 0.7950 - val_loss: 0.3696 - val_acc: 0.8300\n",
            "Epoch 5/30\n",
            "100/100 [==============================] - 18s 182ms/step - loss: 0.4354 - acc: 0.7935 - val_loss: 0.3476 - val_acc: 0.8460\n",
            "Epoch 6/30\n",
            "100/100 [==============================] - 18s 181ms/step - loss: 0.3984 - acc: 0.8210 - val_loss: 0.3888 - val_acc: 0.8340\n",
            "Epoch 7/30\n",
            "100/100 [==============================] - 19s 194ms/step - loss: 0.4009 - acc: 0.8260 - val_loss: 0.3179 - val_acc: 0.8650\n",
            "Epoch 8/30\n",
            "100/100 [==============================] - 18s 178ms/step - loss: 0.3879 - acc: 0.8225 - val_loss: 0.3298 - val_acc: 0.8590\n",
            "Epoch 9/30\n",
            "100/100 [==============================] - 18s 180ms/step - loss: 0.3870 - acc: 0.8280 - val_loss: 0.3023 - val_acc: 0.8740\n",
            "Epoch 10/30\n",
            "100/100 [==============================] - 18s 182ms/step - loss: 0.3798 - acc: 0.8285 - val_loss: 0.2904 - val_acc: 0.8760\n",
            "Epoch 11/30\n",
            "100/100 [==============================] - 19s 185ms/step - loss: 0.3588 - acc: 0.8425 - val_loss: 0.2906 - val_acc: 0.8780\n",
            "Epoch 12/30\n",
            "100/100 [==============================] - 18s 185ms/step - loss: 0.3562 - acc: 0.8485 - val_loss: 0.3253 - val_acc: 0.8590\n",
            "Epoch 13/30\n",
            "100/100 [==============================] - 18s 179ms/step - loss: 0.3585 - acc: 0.8335 - val_loss: 0.2911 - val_acc: 0.8750\n",
            "Epoch 14/30\n",
            "100/100 [==============================] - 18s 179ms/step - loss: 0.3697 - acc: 0.8380 - val_loss: 0.3011 - val_acc: 0.8650\n",
            "Epoch 15/30\n",
            "100/100 [==============================] - 18s 180ms/step - loss: 0.3506 - acc: 0.8420 - val_loss: 0.2876 - val_acc: 0.8730\n",
            "Epoch 16/30\n",
            "100/100 [==============================] - 19s 193ms/step - loss: 0.3567 - acc: 0.8440 - val_loss: 0.2738 - val_acc: 0.8840\n",
            "Epoch 17/30\n",
            "100/100 [==============================] - 18s 180ms/step - loss: 0.3475 - acc: 0.8500 - val_loss: 0.2916 - val_acc: 0.8650\n",
            "Epoch 18/30\n",
            "100/100 [==============================] - 18s 178ms/step - loss: 0.3369 - acc: 0.8475 - val_loss: 0.3282 - val_acc: 0.8560\n",
            "Epoch 19/30\n",
            "100/100 [==============================] - 19s 189ms/step - loss: 0.3521 - acc: 0.8335 - val_loss: 0.2824 - val_acc: 0.8740\n",
            "Epoch 20/30\n",
            "100/100 [==============================] - 19s 189ms/step - loss: 0.3396 - acc: 0.8485 - val_loss: 0.2774 - val_acc: 0.8710\n",
            "Epoch 21/30\n",
            "100/100 [==============================] - 18s 179ms/step - loss: 0.3315 - acc: 0.8635 - val_loss: 0.2689 - val_acc: 0.8820\n",
            "Epoch 22/30\n",
            "100/100 [==============================] - 18s 180ms/step - loss: 0.3329 - acc: 0.8575 - val_loss: 0.2687 - val_acc: 0.8870\n",
            "Epoch 23/30\n",
            "100/100 [==============================] - 18s 178ms/step - loss: 0.3196 - acc: 0.8650 - val_loss: 0.2957 - val_acc: 0.8710\n",
            "Epoch 24/30\n",
            "100/100 [==============================] - 18s 177ms/step - loss: 0.3307 - acc: 0.8480 - val_loss: 0.2658 - val_acc: 0.8920\n",
            "Epoch 25/30\n",
            "100/100 [==============================] - 19s 188ms/step - loss: 0.3308 - acc: 0.8530 - val_loss: 0.2702 - val_acc: 0.8860\n",
            "Epoch 26/30\n",
            "100/100 [==============================] - 18s 185ms/step - loss: 0.3285 - acc: 0.8550 - val_loss: 0.2624 - val_acc: 0.8950\n",
            "Epoch 27/30\n",
            "100/100 [==============================] - 18s 179ms/step - loss: 0.3319 - acc: 0.8570 - val_loss: 0.2680 - val_acc: 0.8890\n",
            "Epoch 28/30\n",
            "100/100 [==============================] - 18s 176ms/step - loss: 0.3275 - acc: 0.8585 - val_loss: 0.2666 - val_acc: 0.8880\n",
            "Epoch 29/30\n",
            "100/100 [==============================] - 19s 191ms/step - loss: 0.3213 - acc: 0.8600 - val_loss: 0.2734 - val_acc: 0.8840\n",
            "Epoch 30/30\n",
            "100/100 [==============================] - 18s 178ms/step - loss: 0.3095 - acc: 0.8605 - val_loss: 0.2671 - val_acc: 0.8810\n"
          ],
          "name": "stdout"
        }
      ]
    },
    {
      "metadata": {
        "id": "BzksVTaHK2Kd",
        "colab_type": "text"
      },
      "cell_type": "markdown",
      "source": [
        "### Graph accuracy"
      ]
    },
    {
      "metadata": {
        "id": "TmeoA5CqK3S8",
        "colab_type": "code",
        "colab": {
          "base_uri": "https://localhost:8080/",
          "height": 545
        },
        "outputId": "665495bf-9a28-4e85-ffed-5aff3b9992a9"
      },
      "cell_type": "code",
      "source": [
        "acc = history.history['acc']\n",
        "val_acc = history.history['val_acc']\n",
        "\n",
        "loss = history.history['loss']\n",
        "val_loss = history.history['val_loss']\n",
        "\n",
        "epochs = range(1, len(acc) + 1)\n",
        "\n",
        "# training and validation accuracy\n",
        "\n",
        "plt.plot(epochs, acc, 'bo', label='training acc')\n",
        "plt.plot(epochs, val_acc, 'b', label='validation acc')\n",
        "plt.title('training and validation accuracy')\n",
        "plt.legend()\n",
        "\n",
        "plt.figure()\n",
        "\n",
        "# training and validation loss\n",
        "\n",
        "plt.plot(epochs, loss, 'bo', label='training loss')\n",
        "plt.plot(epochs, val_loss, 'b', label='validation loss')\n",
        "plt.title('training and validation loss')\n",
        "plt.legend()\n",
        "\n",
        "plt.show()"
      ],
      "execution_count": 24,
      "outputs": [
        {
          "output_type": "display_data",
          "data": {
            "image/png": "[encoded data removed]",
            "text/plain": [
              "<Figure size 432x288 with 1 Axes>"
            ]
          },
          "metadata": {
            "tags": []
          }
        },
        {
          "output_type": "display_data",
          "data": {
            "image/png": "[encoded data removed]",
            "text/plain": [
              "<Figure size 432x288 with 1 Axes>"
            ]
          },
          "metadata": {
            "tags": []
          }
        }
      ]
    },
    {
      "metadata": {
        "id": "0MjvGP5uLG0A",
        "colab_type": "code",
        "colab": {
          "base_uri": "https://localhost:8080/",
          "height": 50
        },
        "outputId": "167e33a3-77b8-491d-b1f1-a55859a67c51"
      },
      "cell_type": "code",
      "source": [
        "val_loss, val_acc = model.evaluate_generator(validation_generator, steps=50)\n",
        "print(\"Validation loss:\", val_loss)\n",
        "print(\"Validation accuracy:\", val_acc)"
      ],
      "execution_count": 25,
      "outputs": [
        {
          "output_type": "stream",
          "text": [
            "Validation loss: 0.26177268996834757\n",
            "Validation accuracy: 0.885999995470047\n"
          ],
          "name": "stdout"
        }
      ]
    }
  ]
}